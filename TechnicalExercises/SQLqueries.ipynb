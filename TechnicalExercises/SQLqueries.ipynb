{
 "cells": [
  {
   "attachments": {},
   "cell_type": "markdown",
   "metadata": {},
   "source": [
    "# Introduction\n",
    "I have utilized my skills in SQL, Python and Jupyter Notebook to perform different queries in a fast food business's database. Throughout this task, I have executed queries using Python code, interacted with an online server to insert values and update tables, and leveraged pandas to transform the query results into DataFrames. Finally, I stored these DataFrames in an Excel sheet to facilitate further exploration.\n",
    "\n",
    "# Project Overview\n",
    "The project revolves around a SQL database specifically designed for a fast food business. It encompasses several tables capturing essential aspects of the business operations. Here's an overview of the tables involved:\n",
    "\n",
    "1. `Producto`\n",
    "(Product): Contains a list of items in the menu, including their unique codes and prices.\n",
    "\n",
    "2. `Empleado`\n",
    "(Employee): Provides information about all employees, including their IDs, full names, social security numbers, shifts, and salaries.\n",
    "\n",
    "3. `Repartidor`\n",
    "(Delivery Person): Stores details about the delivery personnel, such as their IDs, full names, shifts, and incentives.\n",
    "\n",
    "4. `Pedido`\n",
    "(Order): Records various aspects of each order, including the order number, date, price, IDs of employees involved in ticketing, order preparation, and delivery, as well as the respective timestamps.\n",
    "\n",
    "5. `esta_compuesto`\n",
    "(Composed of): Establishes relationships between menu items by linking the codes of items that are composed of other items.\n",
    "\n",
    "6. `consta`\n",
    "(Constancy): Stores information about the items included in each order, specifying the item code, order number, and quantity requested.\n",
    "\n",
    "7. `Pedidos_finalizados`\n",
    "(Order Finished): Acts as a repository for completed orders, mirroring the structure of the PEDIDO table, and including an additional column for the elapsed time.\n",
    "\n",
    "8. `Ranking_productos`\n",
    "(Ranking of Products): Tracks the popularity of menu items by aggregating data from the consta table, including the item code, name, and the total number of times each item has been ordered."
   ]
  },
  {
   "attachments": {},
   "cell_type": "markdown",
   "metadata": {},
   "source": [
    "# Instalo MYSQL CONNECTOR"
   ]
  },
  {
   "cell_type": "code",
   "execution_count": 2,
   "metadata": {},
   "outputs": [
    {
     "name": "stdout",
     "output_type": "stream",
     "text": [
      "Collecting mysql.connector\n",
      "  Downloading mysql-connector-2.2.9.tar.gz (11.9 MB)\n",
      "     --------------------------------------- 11.9/11.9 MB 23.4 MB/s eta 0:00:00\n",
      "  Preparing metadata (setup.py): started\n",
      "  Preparing metadata (setup.py): finished with status 'done'\n",
      "Installing collected packages: mysql.connector\n",
      "  Running setup.py install for mysql.connector: started\n",
      "  Running setup.py install for mysql.connector: finished with status 'done'\n",
      "Successfully installed mysql.connector-2.2.9\n"
     ]
    },
    {
     "name": "stderr",
     "output_type": "stream",
     "text": [
      "  DEPRECATION: mysql.connector is being installed using the legacy 'setup.py install' method, because it does not have a 'pyproject.toml' and the 'wheel' package is not installed. pip 23.1 will enforce this behaviour change. A possible replacement is to enable the '--use-pep517' option. Discussion can be found at https://github.com/pypa/pip/issues/8559\n",
      "\n",
      "[notice] A new release of pip available: 22.3.1 -> 23.1.2\n",
      "[notice] To update, run: python.exe -m pip install --upgrade pip\n"
     ]
    }
   ],
   "source": [
    "!pip install mysql.connector"
   ]
  },
  {
   "attachments": {},
   "cell_type": "markdown",
   "metadata": {},
   "source": [
    "# Importo Librerías"
   ]
  },
  {
   "cell_type": "code",
   "execution_count": 2,
   "metadata": {},
   "outputs": [],
   "source": [
    "import mysql.connector\n",
    "from mysql.connector import Error"
   ]
  },
  {
   "cell_type": "code",
   "execution_count": 3,
   "metadata": {},
   "outputs": [],
   "source": [
    "import pandas as pd\n",
    "from pandas import ExcelWriter"
   ]
  },
  {
   "attachments": {},
   "cell_type": "markdown",
   "metadata": {},
   "source": [
    "# Datos del Servidor"
   ]
  },
  {
   "attachments": {},
   "cell_type": "markdown",
   "metadata": {},
   "source": [
    "nombredb =  </br>\n",
    "nombreusuario =  </br>\n",
    "passw =  </br>\n",
    "ip =  </br>\n"
   ]
  },
  {
   "attachments": {},
   "cell_type": "markdown",
   "metadata": {},
   "source": [
    "# Test de conexión"
   ]
  },
  {
   "cell_type": "code",
   "execution_count": 4,
   "metadata": {},
   "outputs": [
    {
     "name": "stdout",
     "output_type": "stream",
     "text": [
      "Connected to MySQL database... MySQL Server version on 5.7.39-42-log\n",
      "MySQL connection is closed\n"
     ]
    }
   ],
   "source": [
    "try:\n",
    "    connection = mysql.connector.connect(host='34.175.251.45', #ip\n",
    "                                         database='dbegg8vatjbot9', #name db\n",
    "                                         user='u7xcmnsjmtujl',  #user name\n",
    "                                         password='upgradehub' , connection_timeout=180)\n",
    "    if connection.is_connected():\n",
    "        db_Info = connection.get_server_info()\n",
    "        print('Connected to MySQL database... MySQL Server version on', db_Info)\n",
    "\n",
    "        cursor= connection.cursor()\n",
    "        connection.commit()\n",
    "\n",
    "except Error as e:\n",
    "    print('Error while connecting to MySQL', e)\n",
    "finally:\n",
    "    #closing databes connection.\n",
    "    if connection.is_connected():\n",
    "        cursor.close()\n",
    "        connection.close()\n",
    "        print('MySQL connection is closed')"
   ]
  },
  {
   "attachments": {},
   "cell_type": "markdown",
   "metadata": {},
   "source": [
    "# Conecto con el Servidor"
   ]
  },
  {
   "cell_type": "code",
   "execution_count": 5,
   "metadata": {},
   "outputs": [],
   "source": [
    "connection = mysql.connector.connect(host='34.175.251.45',\n",
    "                                         database='dbegg8vatjbot9',\n",
    "                                         user='u7xcmnsjmtujl',\n",
    "                                         password='upgradehub')\n",
    "cursor= connection.cursor()"
   ]
  },
  {
   "attachments": {},
   "cell_type": "markdown",
   "metadata": {},
   "source": [
    "# Creo Tabla Producto"
   ]
  },
  {
   "cell_type": "code",
   "execution_count": 6,
   "metadata": {},
   "outputs": [],
   "source": [
    "queryT1=\"\"\" \n",
    "CREATE TABLE IF NOT EXISTS PRODUCTO (\n",
    "Codigo char(3) PRIMARY KEY,\n",
    "Nombre VARCHAR(50) UNIQUE,\n",
    "Precio FLOAT(6,2)); \n",
    "\"\"\"\n",
    "cursor.execute(queryT1)"
   ]
  },
  {
   "attachments": {},
   "cell_type": "markdown",
   "metadata": {},
   "source": [
    "# Creo Tabla Empleado"
   ]
  },
  {
   "cell_type": "code",
   "execution_count": 7,
   "metadata": {},
   "outputs": [],
   "source": [
    "queryT2=\"\"\" \n",
    "CREATE TABLE IF NOT EXISTS  EMPLEADO (\n",
    "DNI CHAR(9) PRIMARY KEY,\n",
    "Nombre VARCHAR(50),\n",
    "Nss VARCHAR(11),\n",
    "Turno enum('mañana', 'tarde','noche'),\n",
    "Salario FLOAT(6,2));\n",
    "\"\"\"\n",
    "cursor.execute(queryT2)"
   ]
  },
  {
   "attachments": {},
   "cell_type": "markdown",
   "metadata": {},
   "source": [
    "# Creo Tabla Repartidor"
   ]
  },
  {
   "cell_type": "code",
   "execution_count": 8,
   "metadata": {},
   "outputs": [],
   "source": [
    "queryT3=\"\"\" \n",
    "CREATE TABLE IF NOT EXISTS REPARTIDOR (\n",
    "DNI CHAR(9) PRIMARY KEY,\n",
    "Nombre VARCHAR(50),\n",
    "Turno enum('mañana', 'tarde','noche'),\n",
    "Incentivo FLOAT(6,2));\n",
    "\"\"\"\n",
    "cursor.execute(queryT3)"
   ]
  },
  {
   "attachments": {},
   "cell_type": "markdown",
   "metadata": {},
   "source": [
    "# Creo Tabla Pedido"
   ]
  },
  {
   "cell_type": "code",
   "execution_count": 9,
   "metadata": {},
   "outputs": [],
   "source": [
    "queryT4=\"\"\" \n",
    "CREATE TABLE IF NOT EXISTS PEDIDO (\n",
    "Numero char(4) PRIMARY KEY,\n",
    "Fecha DATE NOT NULL,\n",
    "Importe FLOAT(6,2),\n",
    "DNI_ETM CHAR(9),\n",
    "DNI_EP CHAR(9),\n",
    "DNI_R CHAR(9),\n",
    "Hora_tm time,\n",
    "Hora_pre time,\n",
    "Hora_rep time,\n",
    "CONSTRAINT  Pe_dniETM_FK FOREIGN KEY (DNI_ETM) REFERENCES EMPLEADO(DNI) ON DELETE CASCADE,\n",
    "CONSTRAINT  Pe_dniEP_FK FOREIGN KEY (DNI_EP) REFERENCES EMPLEADO(DNI) ON DELETE CASCADE,\n",
    "CONSTRAINT  Pe_dniR_FK FOREIGN KEY (DNI_R) REFERENCES REPARTIDOR(DNI) ON DELETE CASCADE);\n",
    "\"\"\"\n",
    "cursor.execute(queryT4)"
   ]
  },
  {
   "attachments": {},
   "cell_type": "markdown",
   "metadata": {},
   "source": [
    "# Creo Tabla Está Compuesto"
   ]
  },
  {
   "cell_type": "code",
   "execution_count": 10,
   "metadata": {},
   "outputs": [],
   "source": [
    "queryT5=\"\"\" \n",
    "CREATE TABLE IF NOT EXISTS esta_compuesto (\n",
    "Codigo_P char(3),\n",
    "Codigo_P_compuesto char(3),\n",
    "CONSTRAINT EC_PK PRIMARY KEY (Codigo_P,Codigo_P_compuesto),\n",
    "CONSTRAINT  EC_coP_FK FOREIGN KEY (Codigo_P) REFERENCES PRODUCTO(Codigo) ON DELETE CASCADE,\n",
    "CONSTRAINT  EC_coPC_FK FOREIGN KEY (Codigo_P_compuesto) REFERENCES PRODUCTO(Codigo) ON DELETE CASCADE);\n",
    "\"\"\"\n",
    "cursor.execute(queryT5)"
   ]
  },
  {
   "attachments": {},
   "cell_type": "markdown",
   "metadata": {},
   "source": [
    "# Creo Tabla Consta"
   ]
  },
  {
   "cell_type": "code",
   "execution_count": 11,
   "metadata": {},
   "outputs": [],
   "source": [
    "queryT6=\"\"\" \n",
    "CREATE TABLE IF NOT EXISTS consta(\n",
    "Codigo_Pr char(3),\n",
    "Numero_P char(4),\n",
    "cantidad TINYINT,\n",
    "CONSTRAINT CO_PK PRIMARY KEY (Codigo_Pr,Numero_P),\n",
    "CONSTRAINT  CO_coP_FK FOREIGN KEY (Codigo_Pr) REFERENCES PRODUCTO(Codigo) ON DELETE CASCADE,\n",
    "CONSTRAINT  CO_nuP_FK FOREIGN KEY (Numero_P) REFERENCES PEDIDO(Numero) ON DELETE CASCADE);\n",
    "\"\"\"\n",
    "cursor.execute(queryT6)"
   ]
  },
  {
   "attachments": {},
   "cell_type": "markdown",
   "metadata": {},
   "source": [
    "# Creo Tabla Pedidos Finalizados"
   ]
  },
  {
   "cell_type": "code",
   "execution_count": 12,
   "metadata": {},
   "outputs": [],
   "source": [
    "queryT7=\"\"\" \n",
    "CREATE TABLE IF NOT EXISTS PEDIDOS_FINALIZADOS (\n",
    "Numero char(4) PRIMARY KEY,\n",
    "Fecha DATE NOT NULL,\n",
    "Importe FLOAT(6,2),\n",
    "DNI_ETM CHAR(9),\n",
    "DNI_EP CHAR(9),\n",
    "DNI_R CHAR(9),\n",
    "Hora_tm time,\n",
    "Hora_pre time,\n",
    "Hora_rep time,\n",
    "CONSTRAINT  Pe_dniETM1_FK FOREIGN KEY (DNI_ETM) REFERENCES EMPLEADO(DNI) ON DELETE CASCADE,\n",
    "CONSTRAINT  Pe_dniEP1_FK FOREIGN KEY (DNI_EP) REFERENCES EMPLEADO(DNI) ON DELETE CASCADE,\n",
    "CONSTRAINT  Pe_dniR1_FK FOREIGN KEY (DNI_R) REFERENCES REPARTIDOR(DNI) ON DELETE CASCADE,\n",
    "Tiempo_transcurrido time);\n",
    "\"\"\"\n",
    "cursor.execute(queryT7)"
   ]
  },
  {
   "attachments": {},
   "cell_type": "markdown",
   "metadata": {},
   "source": [
    "# Creo Tabla Ranking Productos"
   ]
  },
  {
   "cell_type": "code",
   "execution_count": 13,
   "metadata": {},
   "outputs": [],
   "source": [
    "queryT8=\"\"\" \n",
    "CREATE TABLE RANKING_PRODUCTOS(\n",
    "Codigo char(3) PRIMARY KEY,\n",
    "Nombre VARCHAR(50) UNIQUE,\n",
    "Total int(3));\n",
    "\"\"\"\n",
    "cursor.execute(queryT8)"
   ]
  },
  {
   "attachments": {},
   "cell_type": "markdown",
   "metadata": {},
   "source": [
    "# Inserto Valores en Producto"
   ]
  },
  {
   "cell_type": "code",
   "execution_count": 14,
   "metadata": {},
   "outputs": [],
   "source": [
    "queryT9=\"\"\" \n",
    "INSERT INTO PRODUCTO VALUES\n",
    "('01','Hamburguesa',2.6),\n",
    "('02','Patatas',2.0),\n",
    "('03','tomate',0.50),\n",
    "('04','Queso',1.0),\n",
    "('05','Lechuga',0.50),\n",
    "('06','Pollo',3.6),\n",
    "('08','Bacon',1.5),\n",
    "('09','Coca cola',3.0),\n",
    "('19','Fanta',3.0),\n",
    "('10','Nestea',3.0),\n",
    "('18','Agua',2.0),\n",
    "('11','Menú de Pollo',5.0),\n",
    "('12','Menú de Hamburguesa con queso',6.0),\n",
    "('13','Menú de Pollo con queso',6.0),\n",
    "('14','Menú de Hamburguesa',6.0),\n",
    "('15','Helado',1.0),\n",
    "('16','Tarta',2.0),\n",
    "('17','Fruta',1.0);\n",
    "\"\"\"\n",
    "cursor.execute(queryT9)\n",
    "#Commit the changes to the database\n",
    "connection.commit()"
   ]
  },
  {
   "attachments": {},
   "cell_type": "markdown",
   "metadata": {},
   "source": [
    "# Inserto Valores en Está Compuesto"
   ]
  },
  {
   "cell_type": "code",
   "execution_count": 15,
   "metadata": {},
   "outputs": [],
   "source": [
    "queryT10 = \"\"\" \n",
    "INSERT INTO esta_compuesto VALUES \n",
    "('11','06'),\n",
    "('11','02'),\n",
    "('11','03'),\n",
    "('11','18'),\n",
    "('11','17'),\n",
    "('12','01'),\n",
    "('12','02'),\n",
    "('12','04'),\n",
    "('12','10'),\n",
    "('12','16'),\n",
    "('13','06'),\n",
    "('13','08'),\n",
    "('13','04'),\n",
    "('13','02'),\n",
    "('13','09'),\n",
    "('13','15'),\n",
    "('14','03'),\n",
    "('14','05'),\n",
    "('14','08'),\n",
    "('14','01'),\n",
    "('14','02'),\n",
    "('14','09'),\n",
    "('14','15');\n",
    "\"\"\"\n",
    "cursor.execute(queryT10)\n",
    "connection.commit()\n"
   ]
  },
  {
   "attachments": {},
   "cell_type": "markdown",
   "metadata": {},
   "source": [
    "# Inserto Valores en Empleado"
   ]
  },
  {
   "cell_type": "code",
   "execution_count": 16,
   "metadata": {},
   "outputs": [],
   "source": [
    "queryT11 = \"\"\" \n",
    "INSERT INTO EMPLEADO VALUES\n",
    "('11111111Q','Luis Ramírez Pardo','23445556666' , 'mañana', 900),\n",
    "('22222222S','María Sánchez Cid','11112223334' , 'tarde', 1000),\n",
    "('33333333M','Martín Guerrero López','33344455566' , 'tarde', 1000),\n",
    "('04444444T','Úrsula Delta Camacho', '11177788899', 'mañana', 900),\n",
    "('55555555J','Carmen Hernández Pío','99966633311' , 'mañana', 900),\n",
    "('77777777M','Pedro Jiménez Ruiz','23456785432' , 'tarde', 1000),\n",
    "('99999999X','Raúl Rodrigo Roca','55566677789' , 'tarde', 1000),\n",
    "('88888888O','Soledad Campillo Molina','00088877754' , 'noche', 1200),\n",
    "('03232323P','María Luisa Galdón Ter','43534534567', 'noche', 1200),\n",
    "('14567555L','Piedad Colmenero Zapillo','23456734534' , 'noche', 1200),\n",
    "('14111155T','Sergio Lérida Campos','55577700089' , 'tarde', 1000);\n",
    "\"\"\"\n",
    "cursor.execute(queryT11)\n",
    "connection.commit()\n"
   ]
  },
  {
   "attachments": {},
   "cell_type": "markdown",
   "metadata": {},
   "source": [
    "# Inserto Valores en Repartidor"
   ]
  },
  {
   "cell_type": "code",
   "execution_count": 17,
   "metadata": {},
   "outputs": [],
   "source": [
    "queryT12 = \"\"\" \n",
    "INSERT INTO REPARTIDOR VALUES\n",
    "('14188151T','Carlos Sánchez Ruíz', 'tarde', 300),\n",
    "('11245621Q','Juan Pardo Rubio', 'noche', 400),\n",
    "('04477744T','Laura Jiménez Jiménez', 'noche', 400),\n",
    "('51235555J','Carmen Capel Pío', 'tarde', 300),\n",
    "('55675675J','Juan Sánchez López', 'mañana', 200),\n",
    "('99009900J','Alejandro Pardo López', 'mañana', 400);\n",
    "\"\"\"\n",
    "cursor.execute(queryT12)\n",
    "connection.commit()"
   ]
  },
  {
   "attachments": {},
   "cell_type": "markdown",
   "metadata": {},
   "source": [
    "# Inserto Valores en Pedido"
   ]
  },
  {
   "cell_type": "code",
   "execution_count": 18,
   "metadata": {},
   "outputs": [],
   "source": [
    "queryT13 = \"\"\" \n",
    "INSERT INTO PEDIDO VALUES\n",
    "('0001','2020-10-15',10,'11111111Q','04444444T','55675675J','12:00','12:15','12:45'),\n",
    "('0002','2020-11-11',15,'22222222S','77777777M','99009900J','13:30','13:45','14:05'),\n",
    "('0003','2020-10-15',13,'77777777M','22222222S','99009900J','15:00','15:15','15:45'),\n",
    "('0004','2020-11-10',13,'99999999X','77777777M','04477744T','14:02','14:30','14:45'),\n",
    "('0005','2020-09-05',14,'14567555L','03232323P','14188151T','19:02','19:30','19:45'),\n",
    "('0006','2020-11-15',23,'14567555L','88888888O','04477744T','21:02','21:35','21:45'),\n",
    "('0007','2020-09-25',17,'03232323P','88888888O','14188151T','23:05','23:12','23:35'),\n",
    "('0008','2020-09-15',14,'99999999X','33333333M','11245621Q','18:02','18:30','18:45'),\n",
    "('0009','2020-11-23',25,'04444444T','55555555J','99009900J','11:02','11:30','11:55'),\n",
    "('0010','2020-11-05',45,'88888888O','14567555L',null,'22:05','22:12',null),\n",
    "('0011','2020-11-05',45,'88888888O','14567555L',null,'22:05',null,null);\n",
    "\"\"\"\n",
    "cursor.execute(queryT13)\n",
    "connection.commit()"
   ]
  },
  {
   "attachments": {},
   "cell_type": "markdown",
   "metadata": {},
   "source": [
    "# Inserto Valores en Consta"
   ]
  },
  {
   "cell_type": "code",
   "execution_count": 19,
   "metadata": {},
   "outputs": [],
   "source": [
    "queryT14 = \"\"\" \n",
    "INSERT INTO consta VALUES\n",
    "('11','0001',2),\n",
    "('12','0001',1),\n",
    "('11','0002',1),\n",
    "('12','0002',2),\n",
    "('15','0002',2),\n",
    "('14','0003',2),\n",
    "('17','0003',1),\n",
    "('13','0004',3),\n",
    "('04','0004',1),\n",
    "('13','0005',2),\n",
    "('12','0005',1),\n",
    "('02','0005',1),\n",
    "('12','0006',2),\n",
    "('13','0006',1),\n",
    "('19','0006',1),\n",
    "('18','0006',1),\n",
    "('12','0007',2),\n",
    "('09','0007',1),\n",
    "('02','0007',1),\n",
    "('13','0008',2),\n",
    "('11','0008',1),\n",
    "('13','0009',4),\n",
    "('15','0009',1),\n",
    "('12','0010',3),\n",
    "('13','0010',3),\n",
    "('16','0010',3),\n",
    "('04','0010',3),\n",
    "('04','0011',2);\n",
    "\"\"\"\n",
    "cursor.execute(queryT14)\n",
    "connection.commit()"
   ]
  },
  {
   "attachments": {},
   "cell_type": "markdown",
   "metadata": {},
   "source": [
    "# Peticiones"
   ]
  },
  {
   "attachments": {},
   "cell_type": "markdown",
   "metadata": {},
   "source": [
    "### Obtener el listado de todos los productos"
   ]
  },
  {
   "cell_type": "code",
   "execution_count": 20,
   "metadata": {},
   "outputs": [
    {
     "data": {
      "text/plain": [
       "[('01', 'Hamburguesa', 2.6),\n",
       " ('02', 'Patatas', 2.0),\n",
       " ('03', 'tomate', 0.5),\n",
       " ('04', 'Queso', 1.0),\n",
       " ('05', 'Lechuga', 0.5),\n",
       " ('06', 'Pollo', 3.6),\n",
       " ('08', 'Bacon', 1.5),\n",
       " ('09', 'Coca cola', 3.0),\n",
       " ('10', 'Nestea', 3.0),\n",
       " ('11', 'Menú de Pollo', 5.0),\n",
       " ('12', 'Menú de Hamburguesa con queso', 6.0),\n",
       " ('13', 'Menú de Pollo con queso', 6.0),\n",
       " ('14', 'Menú de Hamburguesa', 6.0),\n",
       " ('15', 'Helado', 1.0),\n",
       " ('16', 'Tarta', 2.0),\n",
       " ('17', 'Fruta', 1.0),\n",
       " ('18', 'Agua', 2.0),\n",
       " ('19', 'Fanta', 3.0)]"
      ]
     },
     "execution_count": 20,
     "metadata": {},
     "output_type": "execute_result"
    }
   ],
   "source": [
    "query1=\"\"\" SELECT * FROM PRODUCTO; \"\"\"\n",
    "cursor.execute(query1)\n",
    "cursor.fetchall()"
   ]
  },
  {
   "cell_type": "code",
   "execution_count": 21,
   "metadata": {},
   "outputs": [
    {
     "name": "stderr",
     "output_type": "stream",
     "text": [
      "C:\\Users\\Russhi\\AppData\\Local\\Temp\\ipykernel_23248\\2674531143.py:1: UserWarning: pandas only supports SQLAlchemy connectable (engine/connection) or database string URI or sqlite3 DBAPI2 connection. Other DBAPI2 objects are not tested. Please consider using SQLAlchemy.\n",
      "  df1=pd.read_sql(query1, con=connection)\n"
     ]
    },
    {
     "data": {
      "text/html": [
       "<div>\n",
       "<style scoped>\n",
       "    .dataframe tbody tr th:only-of-type {\n",
       "        vertical-align: middle;\n",
       "    }\n",
       "\n",
       "    .dataframe tbody tr th {\n",
       "        vertical-align: top;\n",
       "    }\n",
       "\n",
       "    .dataframe thead th {\n",
       "        text-align: right;\n",
       "    }\n",
       "</style>\n",
       "<table border=\"1\" class=\"dataframe\">\n",
       "  <thead>\n",
       "    <tr style=\"text-align: right;\">\n",
       "      <th></th>\n",
       "      <th>Codigo</th>\n",
       "      <th>Nombre</th>\n",
       "      <th>Precio</th>\n",
       "    </tr>\n",
       "  </thead>\n",
       "  <tbody>\n",
       "    <tr>\n",
       "      <th>0</th>\n",
       "      <td>01</td>\n",
       "      <td>Hamburguesa</td>\n",
       "      <td>2.6</td>\n",
       "    </tr>\n",
       "    <tr>\n",
       "      <th>1</th>\n",
       "      <td>02</td>\n",
       "      <td>Patatas</td>\n",
       "      <td>2.0</td>\n",
       "    </tr>\n",
       "    <tr>\n",
       "      <th>2</th>\n",
       "      <td>03</td>\n",
       "      <td>tomate</td>\n",
       "      <td>0.5</td>\n",
       "    </tr>\n",
       "    <tr>\n",
       "      <th>3</th>\n",
       "      <td>04</td>\n",
       "      <td>Queso</td>\n",
       "      <td>1.0</td>\n",
       "    </tr>\n",
       "    <tr>\n",
       "      <th>4</th>\n",
       "      <td>05</td>\n",
       "      <td>Lechuga</td>\n",
       "      <td>0.5</td>\n",
       "    </tr>\n",
       "    <tr>\n",
       "      <th>5</th>\n",
       "      <td>06</td>\n",
       "      <td>Pollo</td>\n",
       "      <td>3.6</td>\n",
       "    </tr>\n",
       "    <tr>\n",
       "      <th>6</th>\n",
       "      <td>08</td>\n",
       "      <td>Bacon</td>\n",
       "      <td>1.5</td>\n",
       "    </tr>\n",
       "    <tr>\n",
       "      <th>7</th>\n",
       "      <td>09</td>\n",
       "      <td>Coca cola</td>\n",
       "      <td>3.0</td>\n",
       "    </tr>\n",
       "    <tr>\n",
       "      <th>8</th>\n",
       "      <td>10</td>\n",
       "      <td>Nestea</td>\n",
       "      <td>3.0</td>\n",
       "    </tr>\n",
       "    <tr>\n",
       "      <th>9</th>\n",
       "      <td>11</td>\n",
       "      <td>Menú de Pollo</td>\n",
       "      <td>5.0</td>\n",
       "    </tr>\n",
       "    <tr>\n",
       "      <th>10</th>\n",
       "      <td>12</td>\n",
       "      <td>Menú de Hamburguesa con queso</td>\n",
       "      <td>6.0</td>\n",
       "    </tr>\n",
       "    <tr>\n",
       "      <th>11</th>\n",
       "      <td>13</td>\n",
       "      <td>Menú de Pollo con queso</td>\n",
       "      <td>6.0</td>\n",
       "    </tr>\n",
       "    <tr>\n",
       "      <th>12</th>\n",
       "      <td>14</td>\n",
       "      <td>Menú de Hamburguesa</td>\n",
       "      <td>6.0</td>\n",
       "    </tr>\n",
       "    <tr>\n",
       "      <th>13</th>\n",
       "      <td>15</td>\n",
       "      <td>Helado</td>\n",
       "      <td>1.0</td>\n",
       "    </tr>\n",
       "    <tr>\n",
       "      <th>14</th>\n",
       "      <td>16</td>\n",
       "      <td>Tarta</td>\n",
       "      <td>2.0</td>\n",
       "    </tr>\n",
       "    <tr>\n",
       "      <th>15</th>\n",
       "      <td>17</td>\n",
       "      <td>Fruta</td>\n",
       "      <td>1.0</td>\n",
       "    </tr>\n",
       "    <tr>\n",
       "      <th>16</th>\n",
       "      <td>18</td>\n",
       "      <td>Agua</td>\n",
       "      <td>2.0</td>\n",
       "    </tr>\n",
       "    <tr>\n",
       "      <th>17</th>\n",
       "      <td>19</td>\n",
       "      <td>Fanta</td>\n",
       "      <td>3.0</td>\n",
       "    </tr>\n",
       "  </tbody>\n",
       "</table>\n",
       "</div>"
      ],
      "text/plain": [
       "   Codigo                         Nombre  Precio\n",
       "0      01                    Hamburguesa     2.6\n",
       "1      02                        Patatas     2.0\n",
       "2      03                         tomate     0.5\n",
       "3      04                          Queso     1.0\n",
       "4      05                        Lechuga     0.5\n",
       "5      06                          Pollo     3.6\n",
       "6      08                          Bacon     1.5\n",
       "7      09                      Coca cola     3.0\n",
       "8      10                         Nestea     3.0\n",
       "9      11                  Menú de Pollo     5.0\n",
       "10     12  Menú de Hamburguesa con queso     6.0\n",
       "11     13        Menú de Pollo con queso     6.0\n",
       "12     14            Menú de Hamburguesa     6.0\n",
       "13     15                         Helado     1.0\n",
       "14     16                          Tarta     2.0\n",
       "15     17                          Fruta     1.0\n",
       "16     18                           Agua     2.0\n",
       "17     19                          Fanta     3.0"
      ]
     },
     "execution_count": 21,
     "metadata": {},
     "output_type": "execute_result"
    }
   ],
   "source": [
    "df1=pd.read_sql(query1, con=connection)\n",
    "df1"
   ]
  },
  {
   "attachments": {},
   "cell_type": "markdown",
   "metadata": {},
   "source": [
    "### Obtener el número de pedido, dni del repartidor y hora de reparto de aquellos pedidos que se toman nota después de las siete de la tarde."
   ]
  },
  {
   "cell_type": "code",
   "execution_count": 22,
   "metadata": {},
   "outputs": [
    {
     "data": {
      "text/plain": [
       "[('0005', '14188151T', datetime.timedelta(seconds=71100)),\n",
       " ('0006', '04477744T', datetime.timedelta(seconds=78300)),\n",
       " ('0007', '14188151T', datetime.timedelta(seconds=84900))]"
      ]
     },
     "execution_count": 22,
     "metadata": {},
     "output_type": "execute_result"
    }
   ],
   "source": [
    "query2=\"\"\" SELECT\n",
    "\tNumero,\n",
    "    DNI_R,\n",
    "    Hora_rep\n",
    "FROM \n",
    "\tPEDIDO\n",
    "WHERE\n",
    "\t(Hora_tm>'19:00:00') AND (Hora_rep is not null); \"\"\"\n",
    "cursor.execute(query2)\n",
    "cursor.fetchall()"
   ]
  },
  {
   "cell_type": "code",
   "execution_count": 23,
   "metadata": {},
   "outputs": [
    {
     "name": "stderr",
     "output_type": "stream",
     "text": [
      "C:\\Users\\Russhi\\AppData\\Local\\Temp\\ipykernel_23248\\3218547425.py:1: UserWarning: pandas only supports SQLAlchemy connectable (engine/connection) or database string URI or sqlite3 DBAPI2 connection. Other DBAPI2 objects are not tested. Please consider using SQLAlchemy.\n",
      "  df2=pd.read_sql(query2, con=connection)\n"
     ]
    },
    {
     "data": {
      "text/html": [
       "<div>\n",
       "<style scoped>\n",
       "    .dataframe tbody tr th:only-of-type {\n",
       "        vertical-align: middle;\n",
       "    }\n",
       "\n",
       "    .dataframe tbody tr th {\n",
       "        vertical-align: top;\n",
       "    }\n",
       "\n",
       "    .dataframe thead th {\n",
       "        text-align: right;\n",
       "    }\n",
       "</style>\n",
       "<table border=\"1\" class=\"dataframe\">\n",
       "  <thead>\n",
       "    <tr style=\"text-align: right;\">\n",
       "      <th></th>\n",
       "      <th>Numero</th>\n",
       "      <th>DNI_R</th>\n",
       "      <th>Hora_rep</th>\n",
       "    </tr>\n",
       "  </thead>\n",
       "  <tbody>\n",
       "    <tr>\n",
       "      <th>0</th>\n",
       "      <td>0005</td>\n",
       "      <td>14188151T</td>\n",
       "      <td>0 days 19:45:00</td>\n",
       "    </tr>\n",
       "    <tr>\n",
       "      <th>1</th>\n",
       "      <td>0006</td>\n",
       "      <td>04477744T</td>\n",
       "      <td>0 days 21:45:00</td>\n",
       "    </tr>\n",
       "    <tr>\n",
       "      <th>2</th>\n",
       "      <td>0007</td>\n",
       "      <td>14188151T</td>\n",
       "      <td>0 days 23:35:00</td>\n",
       "    </tr>\n",
       "  </tbody>\n",
       "</table>\n",
       "</div>"
      ],
      "text/plain": [
       "  Numero      DNI_R        Hora_rep\n",
       "0   0005  14188151T 0 days 19:45:00\n",
       "1   0006  04477744T 0 days 21:45:00\n",
       "2   0007  14188151T 0 days 23:35:00"
      ]
     },
     "execution_count": 23,
     "metadata": {},
     "output_type": "execute_result"
    }
   ],
   "source": [
    "df2=pd.read_sql(query2, con=connection)\n",
    "df2"
   ]
  },
  {
   "attachments": {},
   "cell_type": "markdown",
   "metadata": {},
   "source": [
    "### Obtener todos los campos de empleados que cobran entre 900 y 1000 euros."
   ]
  },
  {
   "cell_type": "code",
   "execution_count": 24,
   "metadata": {},
   "outputs": [
    {
     "data": {
      "text/plain": [
       "[('04444444T', 'Úrsula Delta Camacho', '11177788899', 'mañana', 900.0),\n",
       " ('11111111Q', 'Luis Ramírez Pardo', '23445556666', 'mañana', 900.0),\n",
       " ('14111155T', 'Sergio Lérida Campos', '55577700089', 'tarde', 1000.0),\n",
       " ('22222222S', 'María Sánchez Cid', '11112223334', 'tarde', 1000.0),\n",
       " ('33333333M', 'Martín Guerrero López', '33344455566', 'tarde', 1000.0),\n",
       " ('55555555J', 'Carmen Hernández Pío', '99966633311', 'mañana', 900.0),\n",
       " ('77777777M', 'Pedro Jiménez Ruiz', '23456785432', 'tarde', 1000.0),\n",
       " ('99999999X', 'Raúl Rodrigo Roca', '55566677789', 'tarde', 1000.0)]"
      ]
     },
     "execution_count": 24,
     "metadata": {},
     "output_type": "execute_result"
    }
   ],
   "source": [
    "query3=\"\"\" SELECT *\n",
    "FROM\n",
    "\tEMPLEADO\n",
    "WHERE \n",
    "\tSalario BETWEEN 900 AND 1000; \"\"\"\n",
    "cursor.execute(query3)\n",
    "cursor.fetchall()"
   ]
  },
  {
   "cell_type": "code",
   "execution_count": 25,
   "metadata": {},
   "outputs": [
    {
     "name": "stderr",
     "output_type": "stream",
     "text": [
      "C:\\Users\\Russhi\\AppData\\Local\\Temp\\ipykernel_23248\\1316144687.py:1: UserWarning: pandas only supports SQLAlchemy connectable (engine/connection) or database string URI or sqlite3 DBAPI2 connection. Other DBAPI2 objects are not tested. Please consider using SQLAlchemy.\n",
      "  df3=pd.read_sql(query3, con=connection)\n"
     ]
    },
    {
     "data": {
      "text/html": [
       "<div>\n",
       "<style scoped>\n",
       "    .dataframe tbody tr th:only-of-type {\n",
       "        vertical-align: middle;\n",
       "    }\n",
       "\n",
       "    .dataframe tbody tr th {\n",
       "        vertical-align: top;\n",
       "    }\n",
       "\n",
       "    .dataframe thead th {\n",
       "        text-align: right;\n",
       "    }\n",
       "</style>\n",
       "<table border=\"1\" class=\"dataframe\">\n",
       "  <thead>\n",
       "    <tr style=\"text-align: right;\">\n",
       "      <th></th>\n",
       "      <th>DNI</th>\n",
       "      <th>Nombre</th>\n",
       "      <th>Nss</th>\n",
       "      <th>Turno</th>\n",
       "      <th>Salario</th>\n",
       "    </tr>\n",
       "  </thead>\n",
       "  <tbody>\n",
       "    <tr>\n",
       "      <th>0</th>\n",
       "      <td>04444444T</td>\n",
       "      <td>Úrsula Delta Camacho</td>\n",
       "      <td>11177788899</td>\n",
       "      <td>mañana</td>\n",
       "      <td>900.0</td>\n",
       "    </tr>\n",
       "    <tr>\n",
       "      <th>1</th>\n",
       "      <td>11111111Q</td>\n",
       "      <td>Luis Ramírez Pardo</td>\n",
       "      <td>23445556666</td>\n",
       "      <td>mañana</td>\n",
       "      <td>900.0</td>\n",
       "    </tr>\n",
       "    <tr>\n",
       "      <th>2</th>\n",
       "      <td>14111155T</td>\n",
       "      <td>Sergio Lérida Campos</td>\n",
       "      <td>55577700089</td>\n",
       "      <td>tarde</td>\n",
       "      <td>1000.0</td>\n",
       "    </tr>\n",
       "    <tr>\n",
       "      <th>3</th>\n",
       "      <td>22222222S</td>\n",
       "      <td>María Sánchez Cid</td>\n",
       "      <td>11112223334</td>\n",
       "      <td>tarde</td>\n",
       "      <td>1000.0</td>\n",
       "    </tr>\n",
       "    <tr>\n",
       "      <th>4</th>\n",
       "      <td>33333333M</td>\n",
       "      <td>Martín Guerrero López</td>\n",
       "      <td>33344455566</td>\n",
       "      <td>tarde</td>\n",
       "      <td>1000.0</td>\n",
       "    </tr>\n",
       "    <tr>\n",
       "      <th>5</th>\n",
       "      <td>55555555J</td>\n",
       "      <td>Carmen Hernández Pío</td>\n",
       "      <td>99966633311</td>\n",
       "      <td>mañana</td>\n",
       "      <td>900.0</td>\n",
       "    </tr>\n",
       "    <tr>\n",
       "      <th>6</th>\n",
       "      <td>77777777M</td>\n",
       "      <td>Pedro Jiménez Ruiz</td>\n",
       "      <td>23456785432</td>\n",
       "      <td>tarde</td>\n",
       "      <td>1000.0</td>\n",
       "    </tr>\n",
       "    <tr>\n",
       "      <th>7</th>\n",
       "      <td>99999999X</td>\n",
       "      <td>Raúl Rodrigo Roca</td>\n",
       "      <td>55566677789</td>\n",
       "      <td>tarde</td>\n",
       "      <td>1000.0</td>\n",
       "    </tr>\n",
       "  </tbody>\n",
       "</table>\n",
       "</div>"
      ],
      "text/plain": [
       "         DNI                 Nombre          Nss   Turno  Salario\n",
       "0  04444444T   Úrsula Delta Camacho  11177788899  mañana    900.0\n",
       "1  11111111Q     Luis Ramírez Pardo  23445556666  mañana    900.0\n",
       "2  14111155T   Sergio Lérida Campos  55577700089   tarde   1000.0\n",
       "3  22222222S      María Sánchez Cid  11112223334   tarde   1000.0\n",
       "4  33333333M  Martín Guerrero López  33344455566   tarde   1000.0\n",
       "5  55555555J   Carmen Hernández Pío  99966633311  mañana    900.0\n",
       "6  77777777M     Pedro Jiménez Ruiz  23456785432   tarde   1000.0\n",
       "7  99999999X      Raúl Rodrigo Roca  55566677789   tarde   1000.0"
      ]
     },
     "execution_count": 25,
     "metadata": {},
     "output_type": "execute_result"
    }
   ],
   "source": [
    "df3=pd.read_sql(query3, con=connection)\n",
    "df3"
   ]
  },
  {
   "attachments": {},
   "cell_type": "markdown",
   "metadata": {},
   "source": [
    "### Obtener el número de pedido e importe de aquellos que han sido registrados en el mes de noviembre de 2020 y su importe es mayor a 15 Euros."
   ]
  },
  {
   "cell_type": "code",
   "execution_count": 26,
   "metadata": {},
   "outputs": [
    {
     "data": {
      "text/plain": [
       "[('0006', 23.0), ('0009', 25.0), ('0010', 45.0), ('0011', 45.0)]"
      ]
     },
     "execution_count": 26,
     "metadata": {},
     "output_type": "execute_result"
    }
   ],
   "source": [
    "query4=\"\"\" SELECT\n",
    "\tNumero,\n",
    "    Importe\n",
    "FROM \n",
    "\tPEDIDO\n",
    "WHERE\n",
    "\t(Fecha like '2020-11-%') AND (Importe >15); \"\"\"\n",
    "cursor.execute(query4)\n",
    "cursor.fetchall()"
   ]
  },
  {
   "cell_type": "code",
   "execution_count": 27,
   "metadata": {},
   "outputs": [
    {
     "name": "stderr",
     "output_type": "stream",
     "text": [
      "C:\\Users\\Russhi\\AppData\\Local\\Temp\\ipykernel_23248\\2846340848.py:1: UserWarning: pandas only supports SQLAlchemy connectable (engine/connection) or database string URI or sqlite3 DBAPI2 connection. Other DBAPI2 objects are not tested. Please consider using SQLAlchemy.\n",
      "  df4=pd.read_sql(query4, con=connection)\n"
     ]
    },
    {
     "data": {
      "text/html": [
       "<div>\n",
       "<style scoped>\n",
       "    .dataframe tbody tr th:only-of-type {\n",
       "        vertical-align: middle;\n",
       "    }\n",
       "\n",
       "    .dataframe tbody tr th {\n",
       "        vertical-align: top;\n",
       "    }\n",
       "\n",
       "    .dataframe thead th {\n",
       "        text-align: right;\n",
       "    }\n",
       "</style>\n",
       "<table border=\"1\" class=\"dataframe\">\n",
       "  <thead>\n",
       "    <tr style=\"text-align: right;\">\n",
       "      <th></th>\n",
       "      <th>Numero</th>\n",
       "      <th>Importe</th>\n",
       "    </tr>\n",
       "  </thead>\n",
       "  <tbody>\n",
       "    <tr>\n",
       "      <th>0</th>\n",
       "      <td>0006</td>\n",
       "      <td>23.0</td>\n",
       "    </tr>\n",
       "    <tr>\n",
       "      <th>1</th>\n",
       "      <td>0009</td>\n",
       "      <td>25.0</td>\n",
       "    </tr>\n",
       "    <tr>\n",
       "      <th>2</th>\n",
       "      <td>0010</td>\n",
       "      <td>45.0</td>\n",
       "    </tr>\n",
       "    <tr>\n",
       "      <th>3</th>\n",
       "      <td>0011</td>\n",
       "      <td>45.0</td>\n",
       "    </tr>\n",
       "  </tbody>\n",
       "</table>\n",
       "</div>"
      ],
      "text/plain": [
       "  Numero  Importe\n",
       "0   0006     23.0\n",
       "1   0009     25.0\n",
       "2   0010     45.0\n",
       "3   0011     45.0"
      ]
     },
     "execution_count": 27,
     "metadata": {},
     "output_type": "execute_result"
    }
   ],
   "source": [
    "df4=pd.read_sql(query4, con=connection)\n",
    "df4"
   ]
  },
  {
   "attachments": {},
   "cell_type": "markdown",
   "metadata": {},
   "source": [
    "### Obtener por cada uno de los repartidores su DNI junto a la cantidad de pedidos entregados."
   ]
  },
  {
   "cell_type": "code",
   "execution_count": 28,
   "metadata": {},
   "outputs": [
    {
     "data": {
      "text/plain": [
       "[('04477744T', 2),\n",
       " ('11245621Q', 1),\n",
       " ('14188151T', 2),\n",
       " ('55675675J', 1),\n",
       " ('99009900J', 3)]"
      ]
     },
     "execution_count": 28,
     "metadata": {},
     "output_type": "execute_result"
    }
   ],
   "source": [
    "query5=\"\"\" SELECT\n",
    "\tr.DNI,\n",
    "    COUNT(p.Numero) CantidadPedidos\n",
    "FROM REPARTIDOR r\n",
    "INNER JOIN\n",
    "\tPEDIDO p ON r.DNI=p.DNI_R\n",
    "GROUP BY\n",
    "\tr.DNI; \"\"\"\n",
    "cursor.execute(query5)\n",
    "cursor.fetchall()"
   ]
  },
  {
   "cell_type": "code",
   "execution_count": 29,
   "metadata": {},
   "outputs": [
    {
     "name": "stderr",
     "output_type": "stream",
     "text": [
      "C:\\Users\\Russhi\\AppData\\Local\\Temp\\ipykernel_23248\\865239477.py:1: UserWarning: pandas only supports SQLAlchemy connectable (engine/connection) or database string URI or sqlite3 DBAPI2 connection. Other DBAPI2 objects are not tested. Please consider using SQLAlchemy.\n",
      "  df5=pd.read_sql(query5, con=connection)\n"
     ]
    },
    {
     "data": {
      "text/html": [
       "<div>\n",
       "<style scoped>\n",
       "    .dataframe tbody tr th:only-of-type {\n",
       "        vertical-align: middle;\n",
       "    }\n",
       "\n",
       "    .dataframe tbody tr th {\n",
       "        vertical-align: top;\n",
       "    }\n",
       "\n",
       "    .dataframe thead th {\n",
       "        text-align: right;\n",
       "    }\n",
       "</style>\n",
       "<table border=\"1\" class=\"dataframe\">\n",
       "  <thead>\n",
       "    <tr style=\"text-align: right;\">\n",
       "      <th></th>\n",
       "      <th>DNI</th>\n",
       "      <th>CantidadPedidos</th>\n",
       "    </tr>\n",
       "  </thead>\n",
       "  <tbody>\n",
       "    <tr>\n",
       "      <th>0</th>\n",
       "      <td>04477744T</td>\n",
       "      <td>2</td>\n",
       "    </tr>\n",
       "    <tr>\n",
       "      <th>1</th>\n",
       "      <td>11245621Q</td>\n",
       "      <td>1</td>\n",
       "    </tr>\n",
       "    <tr>\n",
       "      <th>2</th>\n",
       "      <td>14188151T</td>\n",
       "      <td>2</td>\n",
       "    </tr>\n",
       "    <tr>\n",
       "      <th>3</th>\n",
       "      <td>55675675J</td>\n",
       "      <td>1</td>\n",
       "    </tr>\n",
       "    <tr>\n",
       "      <th>4</th>\n",
       "      <td>99009900J</td>\n",
       "      <td>3</td>\n",
       "    </tr>\n",
       "  </tbody>\n",
       "</table>\n",
       "</div>"
      ],
      "text/plain": [
       "         DNI  CantidadPedidos\n",
       "0  04477744T                2\n",
       "1  11245621Q                1\n",
       "2  14188151T                2\n",
       "3  55675675J                1\n",
       "4  99009900J                3"
      ]
     },
     "execution_count": 29,
     "metadata": {},
     "output_type": "execute_result"
    }
   ],
   "source": [
    "df5=pd.read_sql(query5, con=connection)\n",
    "df5"
   ]
  },
  {
   "attachments": {},
   "cell_type": "markdown",
   "metadata": {},
   "source": [
    "### Obtener por cada mes (con el formato de nombre y no de número ej. Noviembre),la cantidad de pedidos realizados."
   ]
  },
  {
   "cell_type": "code",
   "execution_count": 30,
   "metadata": {},
   "outputs": [
    {
     "data": {
      "text/plain": [
       "[('September', 3), ('October', 2), ('November', 6)]"
      ]
     },
     "execution_count": 30,
     "metadata": {},
     "output_type": "execute_result"
    }
   ],
   "source": [
    "query6=\"\"\" SELECT\n",
    "\tMONTHNAME(Fecha) Mes,\n",
    "    COUNT(Numero) Pedidos\n",
    "FROM\n",
    "\tPEDIDO\n",
    "WHERE \n",
    "\t(Numero AND Fecha) is not null\n",
    "GROUP BY\n",
    "\tMONTHNAME(Fecha)\n",
    "ORDER BY\n",
    "\tMes DESC; \"\"\"\n",
    "cursor.execute(query6)\n",
    "cursor.fetchall()"
   ]
  },
  {
   "cell_type": "code",
   "execution_count": 31,
   "metadata": {},
   "outputs": [
    {
     "name": "stderr",
     "output_type": "stream",
     "text": [
      "C:\\Users\\Russhi\\AppData\\Local\\Temp\\ipykernel_23248\\3169886837.py:1: UserWarning: pandas only supports SQLAlchemy connectable (engine/connection) or database string URI or sqlite3 DBAPI2 connection. Other DBAPI2 objects are not tested. Please consider using SQLAlchemy.\n",
      "  df6=pd.read_sql(query6, con=connection)\n"
     ]
    },
    {
     "data": {
      "text/html": [
       "<div>\n",
       "<style scoped>\n",
       "    .dataframe tbody tr th:only-of-type {\n",
       "        vertical-align: middle;\n",
       "    }\n",
       "\n",
       "    .dataframe tbody tr th {\n",
       "        vertical-align: top;\n",
       "    }\n",
       "\n",
       "    .dataframe thead th {\n",
       "        text-align: right;\n",
       "    }\n",
       "</style>\n",
       "<table border=\"1\" class=\"dataframe\">\n",
       "  <thead>\n",
       "    <tr style=\"text-align: right;\">\n",
       "      <th></th>\n",
       "      <th>Mes</th>\n",
       "      <th>Pedidos</th>\n",
       "    </tr>\n",
       "  </thead>\n",
       "  <tbody>\n",
       "    <tr>\n",
       "      <th>0</th>\n",
       "      <td>September</td>\n",
       "      <td>3</td>\n",
       "    </tr>\n",
       "    <tr>\n",
       "      <th>1</th>\n",
       "      <td>October</td>\n",
       "      <td>2</td>\n",
       "    </tr>\n",
       "    <tr>\n",
       "      <th>2</th>\n",
       "      <td>November</td>\n",
       "      <td>6</td>\n",
       "    </tr>\n",
       "  </tbody>\n",
       "</table>\n",
       "</div>"
      ],
      "text/plain": [
       "         Mes  Pedidos\n",
       "0  September        3\n",
       "1    October        2\n",
       "2   November        6"
      ]
     },
     "execution_count": 31,
     "metadata": {},
     "output_type": "execute_result"
    }
   ],
   "source": [
    "df6=pd.read_sql(query6, con=connection)\n",
    "df6"
   ]
  },
  {
   "attachments": {},
   "cell_type": "markdown",
   "metadata": {},
   "source": [
    "### Obtener un listado con el nombre y dni de los empleados en el mismo campo y anteponiendo el dni al nombre de la siguiente forma (ej; 45776633P, Juan Rodríguez López) que tenga turno de “tarde” o \"noche\". Ordenar el listado por dni."
   ]
  },
  {
   "cell_type": "code",
   "execution_count": 32,
   "metadata": {},
   "outputs": [
    {
     "data": {
      "text/plain": [
       "[('03232323P, María Luisa Galdón Ter', 'noche'),\n",
       " ('14111155T, Sergio Lérida Campos', 'tarde'),\n",
       " ('14567555L, Piedad Colmenero Zapillo', 'noche'),\n",
       " ('22222222S, María Sánchez Cid', 'tarde'),\n",
       " ('33333333M, Martín Guerrero López', 'tarde'),\n",
       " ('77777777M, Pedro Jiménez Ruiz', 'tarde'),\n",
       " ('88888888O, Soledad Campillo Molina', 'noche'),\n",
       " ('99999999X, Raúl Rodrigo Roca', 'tarde')]"
      ]
     },
     "execution_count": 32,
     "metadata": {},
     "output_type": "execute_result"
    }
   ],
   "source": [
    "query7=\"\"\" SELECT\n",
    "\tCONCAT(DNI, ', ', Nombre) Empleado,\n",
    "    Turno\n",
    "FROM \n",
    "\tEMPLEADO\n",
    "WHERE\n",
    "\tTurno in ('tarde','noche')\n",
    "ORDER BY\n",
    "\tDNI ASC; \"\"\"\n",
    "cursor.execute(query7)\n",
    "cursor.fetchall()"
   ]
  },
  {
   "cell_type": "code",
   "execution_count": 33,
   "metadata": {},
   "outputs": [
    {
     "name": "stderr",
     "output_type": "stream",
     "text": [
      "C:\\Users\\Russhi\\AppData\\Local\\Temp\\ipykernel_23248\\2296241394.py:1: UserWarning: pandas only supports SQLAlchemy connectable (engine/connection) or database string URI or sqlite3 DBAPI2 connection. Other DBAPI2 objects are not tested. Please consider using SQLAlchemy.\n",
      "  df7=pd.read_sql(query7, con=connection)\n"
     ]
    },
    {
     "data": {
      "text/html": [
       "<div>\n",
       "<style scoped>\n",
       "    .dataframe tbody tr th:only-of-type {\n",
       "        vertical-align: middle;\n",
       "    }\n",
       "\n",
       "    .dataframe tbody tr th {\n",
       "        vertical-align: top;\n",
       "    }\n",
       "\n",
       "    .dataframe thead th {\n",
       "        text-align: right;\n",
       "    }\n",
       "</style>\n",
       "<table border=\"1\" class=\"dataframe\">\n",
       "  <thead>\n",
       "    <tr style=\"text-align: right;\">\n",
       "      <th></th>\n",
       "      <th>Empleado</th>\n",
       "      <th>Turno</th>\n",
       "    </tr>\n",
       "  </thead>\n",
       "  <tbody>\n",
       "    <tr>\n",
       "      <th>0</th>\n",
       "      <td>03232323P, María Luisa Galdón Ter</td>\n",
       "      <td>noche</td>\n",
       "    </tr>\n",
       "    <tr>\n",
       "      <th>1</th>\n",
       "      <td>14111155T, Sergio Lérida Campos</td>\n",
       "      <td>tarde</td>\n",
       "    </tr>\n",
       "    <tr>\n",
       "      <th>2</th>\n",
       "      <td>14567555L, Piedad Colmenero Zapillo</td>\n",
       "      <td>noche</td>\n",
       "    </tr>\n",
       "    <tr>\n",
       "      <th>3</th>\n",
       "      <td>22222222S, María Sánchez Cid</td>\n",
       "      <td>tarde</td>\n",
       "    </tr>\n",
       "    <tr>\n",
       "      <th>4</th>\n",
       "      <td>33333333M, Martín Guerrero López</td>\n",
       "      <td>tarde</td>\n",
       "    </tr>\n",
       "    <tr>\n",
       "      <th>5</th>\n",
       "      <td>77777777M, Pedro Jiménez Ruiz</td>\n",
       "      <td>tarde</td>\n",
       "    </tr>\n",
       "    <tr>\n",
       "      <th>6</th>\n",
       "      <td>88888888O, Soledad Campillo Molina</td>\n",
       "      <td>noche</td>\n",
       "    </tr>\n",
       "    <tr>\n",
       "      <th>7</th>\n",
       "      <td>99999999X, Raúl Rodrigo Roca</td>\n",
       "      <td>tarde</td>\n",
       "    </tr>\n",
       "  </tbody>\n",
       "</table>\n",
       "</div>"
      ],
      "text/plain": [
       "                              Empleado  Turno\n",
       "0    03232323P, María Luisa Galdón Ter  noche\n",
       "1      14111155T, Sergio Lérida Campos  tarde\n",
       "2  14567555L, Piedad Colmenero Zapillo  noche\n",
       "3         22222222S, María Sánchez Cid  tarde\n",
       "4     33333333M, Martín Guerrero López  tarde\n",
       "5        77777777M, Pedro Jiménez Ruiz  tarde\n",
       "6   88888888O, Soledad Campillo Molina  noche\n",
       "7         99999999X, Raúl Rodrigo Roca  tarde"
      ]
     },
     "execution_count": 33,
     "metadata": {},
     "output_type": "execute_result"
    }
   ],
   "source": [
    "df7=pd.read_sql(query7, con=connection)\n",
    "df7"
   ]
  },
  {
   "attachments": {},
   "cell_type": "markdown",
   "metadata": {},
   "source": [
    "### Obtener el nombre, código y precio de aquellos productos que superen o igualen la media de todos los precios. Ordenar de mayor a menor precio."
   ]
  },
  {
   "cell_type": "code",
   "execution_count": 34,
   "metadata": {},
   "outputs": [
    {
     "data": {
      "text/plain": [
       "[('Menú de Hamburguesa con queso', '12', 6.0),\n",
       " ('Menú de Pollo con queso', '13', 6.0),\n",
       " ('Menú de Hamburguesa', '14', 6.0),\n",
       " ('Menú de Pollo', '11', 5.0),\n",
       " ('Pollo', '06', 3.6),\n",
       " ('Coca cola', '09', 3.0),\n",
       " ('Nestea', '10', 3.0),\n",
       " ('Fanta', '19', 3.0)]"
      ]
     },
     "execution_count": 34,
     "metadata": {},
     "output_type": "execute_result"
    }
   ],
   "source": [
    "query8=\"\"\" SELECT\n",
    "\tNombre,\n",
    "    Codigo,\n",
    "    Precio\n",
    "FROM\n",
    "\tPRODUCTO\n",
    "WHERE\n",
    "\t(Precio>=(SELECT AVG(Precio) FROM PRODUCTO))\n",
    "ORDER BY\n",
    "\tPrecio DESC; \"\"\"\n",
    "cursor.execute(query8)\n",
    "cursor.fetchall()"
   ]
  },
  {
   "cell_type": "code",
   "execution_count": 35,
   "metadata": {},
   "outputs": [
    {
     "name": "stderr",
     "output_type": "stream",
     "text": [
      "C:\\Users\\Russhi\\AppData\\Local\\Temp\\ipykernel_23248\\52602469.py:1: UserWarning: pandas only supports SQLAlchemy connectable (engine/connection) or database string URI or sqlite3 DBAPI2 connection. Other DBAPI2 objects are not tested. Please consider using SQLAlchemy.\n",
      "  df8=pd.read_sql(query8, con=connection)\n"
     ]
    },
    {
     "data": {
      "text/html": [
       "<div>\n",
       "<style scoped>\n",
       "    .dataframe tbody tr th:only-of-type {\n",
       "        vertical-align: middle;\n",
       "    }\n",
       "\n",
       "    .dataframe tbody tr th {\n",
       "        vertical-align: top;\n",
       "    }\n",
       "\n",
       "    .dataframe thead th {\n",
       "        text-align: right;\n",
       "    }\n",
       "</style>\n",
       "<table border=\"1\" class=\"dataframe\">\n",
       "  <thead>\n",
       "    <tr style=\"text-align: right;\">\n",
       "      <th></th>\n",
       "      <th>Nombre</th>\n",
       "      <th>Codigo</th>\n",
       "      <th>Precio</th>\n",
       "    </tr>\n",
       "  </thead>\n",
       "  <tbody>\n",
       "    <tr>\n",
       "      <th>0</th>\n",
       "      <td>Menú de Hamburguesa con queso</td>\n",
       "      <td>12</td>\n",
       "      <td>6.0</td>\n",
       "    </tr>\n",
       "    <tr>\n",
       "      <th>1</th>\n",
       "      <td>Menú de Pollo con queso</td>\n",
       "      <td>13</td>\n",
       "      <td>6.0</td>\n",
       "    </tr>\n",
       "    <tr>\n",
       "      <th>2</th>\n",
       "      <td>Menú de Hamburguesa</td>\n",
       "      <td>14</td>\n",
       "      <td>6.0</td>\n",
       "    </tr>\n",
       "    <tr>\n",
       "      <th>3</th>\n",
       "      <td>Menú de Pollo</td>\n",
       "      <td>11</td>\n",
       "      <td>5.0</td>\n",
       "    </tr>\n",
       "    <tr>\n",
       "      <th>4</th>\n",
       "      <td>Pollo</td>\n",
       "      <td>06</td>\n",
       "      <td>3.6</td>\n",
       "    </tr>\n",
       "    <tr>\n",
       "      <th>5</th>\n",
       "      <td>Coca cola</td>\n",
       "      <td>09</td>\n",
       "      <td>3.0</td>\n",
       "    </tr>\n",
       "    <tr>\n",
       "      <th>6</th>\n",
       "      <td>Nestea</td>\n",
       "      <td>10</td>\n",
       "      <td>3.0</td>\n",
       "    </tr>\n",
       "    <tr>\n",
       "      <th>7</th>\n",
       "      <td>Fanta</td>\n",
       "      <td>19</td>\n",
       "      <td>3.0</td>\n",
       "    </tr>\n",
       "  </tbody>\n",
       "</table>\n",
       "</div>"
      ],
      "text/plain": [
       "                          Nombre Codigo  Precio\n",
       "0  Menú de Hamburguesa con queso     12     6.0\n",
       "1        Menú de Pollo con queso     13     6.0\n",
       "2            Menú de Hamburguesa     14     6.0\n",
       "3                  Menú de Pollo     11     5.0\n",
       "4                          Pollo     06     3.6\n",
       "5                      Coca cola     09     3.0\n",
       "6                         Nestea     10     3.0\n",
       "7                          Fanta     19     3.0"
      ]
     },
     "execution_count": 35,
     "metadata": {},
     "output_type": "execute_result"
    }
   ],
   "source": [
    "df8=pd.read_sql(query8, con=connection)\n",
    "df8"
   ]
  },
  {
   "attachments": {},
   "cell_type": "markdown",
   "metadata": {},
   "source": [
    "### Obtener un listado con el nombre y DNI de los empleados que no han preparado nunca ningún pedido."
   ]
  },
  {
   "cell_type": "code",
   "execution_count": 36,
   "metadata": {},
   "outputs": [
    {
     "data": {
      "text/plain": [
       "[('11111111Q', 'Luis Ramírez Pardo'),\n",
       " ('14111155T', 'Sergio Lérida Campos'),\n",
       " ('99999999X', 'Raúl Rodrigo Roca')]"
      ]
     },
     "execution_count": 36,
     "metadata": {},
     "output_type": "execute_result"
    }
   ],
   "source": [
    "query9=\"\"\" SELECT\n",
    "\temp.DNI,\n",
    "    emp.Nombre\n",
    "FROM EMPLEADO emp\n",
    "LEFT OUTER JOIN\n",
    "\tPEDIDO p ON emp.DNI=p.DNI_EP\n",
    "WHERE\n",
    "\tp.DNI_EP is null; \"\"\"\n",
    "cursor.execute(query9)\n",
    "cursor.fetchall()"
   ]
  },
  {
   "cell_type": "code",
   "execution_count": 37,
   "metadata": {},
   "outputs": [
    {
     "name": "stderr",
     "output_type": "stream",
     "text": [
      "C:\\Users\\Russhi\\AppData\\Local\\Temp\\ipykernel_23248\\1876838131.py:1: UserWarning: pandas only supports SQLAlchemy connectable (engine/connection) or database string URI or sqlite3 DBAPI2 connection. Other DBAPI2 objects are not tested. Please consider using SQLAlchemy.\n",
      "  df9=pd.read_sql(query9, con=connection)\n"
     ]
    },
    {
     "data": {
      "text/html": [
       "<div>\n",
       "<style scoped>\n",
       "    .dataframe tbody tr th:only-of-type {\n",
       "        vertical-align: middle;\n",
       "    }\n",
       "\n",
       "    .dataframe tbody tr th {\n",
       "        vertical-align: top;\n",
       "    }\n",
       "\n",
       "    .dataframe thead th {\n",
       "        text-align: right;\n",
       "    }\n",
       "</style>\n",
       "<table border=\"1\" class=\"dataframe\">\n",
       "  <thead>\n",
       "    <tr style=\"text-align: right;\">\n",
       "      <th></th>\n",
       "      <th>DNI</th>\n",
       "      <th>Nombre</th>\n",
       "    </tr>\n",
       "  </thead>\n",
       "  <tbody>\n",
       "    <tr>\n",
       "      <th>0</th>\n",
       "      <td>11111111Q</td>\n",
       "      <td>Luis Ramírez Pardo</td>\n",
       "    </tr>\n",
       "    <tr>\n",
       "      <th>1</th>\n",
       "      <td>14111155T</td>\n",
       "      <td>Sergio Lérida Campos</td>\n",
       "    </tr>\n",
       "    <tr>\n",
       "      <th>2</th>\n",
       "      <td>99999999X</td>\n",
       "      <td>Raúl Rodrigo Roca</td>\n",
       "    </tr>\n",
       "  </tbody>\n",
       "</table>\n",
       "</div>"
      ],
      "text/plain": [
       "         DNI                Nombre\n",
       "0  11111111Q    Luis Ramírez Pardo\n",
       "1  14111155T  Sergio Lérida Campos\n",
       "2  99999999X     Raúl Rodrigo Roca"
      ]
     },
     "execution_count": 37,
     "metadata": {},
     "output_type": "execute_result"
    }
   ],
   "source": [
    "df9=pd.read_sql(query9, con=connection)\n",
    "df9"
   ]
  },
  {
   "attachments": {},
   "cell_type": "markdown",
   "metadata": {},
   "source": [
    "### Obtener el código, nombre y precio de los productos(estos dos últimos en el mismo campo) que están contenidos en los pedidos que ha tomado nota \"Luis\" o \"María Luisa\". Ordena el listado de mayor a menor valor por fecha del pedido."
   ]
  },
  {
   "cell_type": "code",
   "execution_count": 38,
   "metadata": {},
   "outputs": [
    {
     "data": {
      "text/plain": [
       "[('02', 'Patatas, 2.00'),\n",
       " ('09', 'Coca cola, 3.00'),\n",
       " ('12', 'Menú de Hamburguesa con queso, 6.00'),\n",
       " ('11', 'Menú de Pollo, 5.00'),\n",
       " ('12', 'Menú de Hamburguesa con queso, 6.00')]"
      ]
     },
     "execution_count": 38,
     "metadata": {},
     "output_type": "execute_result"
    }
   ],
   "source": [
    "query10=\"\"\" SELECT \n",
    "\tpro.Codigo,\n",
    "    CONCAT(pro.Nombre, ', ', pro.Precio) NombrePrecio\n",
    "FROM\n",
    "\tconsta con\n",
    "INNER JOIN\n",
    "\tPEDIDO p ON con.Numero_P=p.Numero\n",
    "INNER JOIN\n",
    "\tPRODUCTO pro ON con.Codigo_Pr=pro.Codigo\n",
    "WHERE p.DNI_ETM IN (\n",
    "SELECT\n",
    "    emp.DNI\n",
    "FROM \n",
    "\tEMPLEADO emp\n",
    "INNER JOIN\n",
    "\tPEDIDO p ON emp.DNI=p.DNI_ETM\n",
    "WHERE\n",
    "    (emp.Nombre like ('Luís%')) or (emp.Nombre like ('María Luisa%'))\n",
    "    )\n",
    "ORDER BY\n",
    "\tp.Fecha; \"\"\"\n",
    "cursor.execute(query10)\n",
    "cursor.fetchall()"
   ]
  },
  {
   "cell_type": "code",
   "execution_count": 39,
   "metadata": {},
   "outputs": [
    {
     "name": "stderr",
     "output_type": "stream",
     "text": [
      "C:\\Users\\Russhi\\AppData\\Local\\Temp\\ipykernel_23248\\1228663485.py:1: UserWarning: pandas only supports SQLAlchemy connectable (engine/connection) or database string URI or sqlite3 DBAPI2 connection. Other DBAPI2 objects are not tested. Please consider using SQLAlchemy.\n",
      "  df10=pd.read_sql(query10, con=connection)\n"
     ]
    },
    {
     "data": {
      "text/html": [
       "<div>\n",
       "<style scoped>\n",
       "    .dataframe tbody tr th:only-of-type {\n",
       "        vertical-align: middle;\n",
       "    }\n",
       "\n",
       "    .dataframe tbody tr th {\n",
       "        vertical-align: top;\n",
       "    }\n",
       "\n",
       "    .dataframe thead th {\n",
       "        text-align: right;\n",
       "    }\n",
       "</style>\n",
       "<table border=\"1\" class=\"dataframe\">\n",
       "  <thead>\n",
       "    <tr style=\"text-align: right;\">\n",
       "      <th></th>\n",
       "      <th>Codigo</th>\n",
       "      <th>NombrePrecio</th>\n",
       "    </tr>\n",
       "  </thead>\n",
       "  <tbody>\n",
       "    <tr>\n",
       "      <th>0</th>\n",
       "      <td>02</td>\n",
       "      <td>Patatas, 2.00</td>\n",
       "    </tr>\n",
       "    <tr>\n",
       "      <th>1</th>\n",
       "      <td>09</td>\n",
       "      <td>Coca cola, 3.00</td>\n",
       "    </tr>\n",
       "    <tr>\n",
       "      <th>2</th>\n",
       "      <td>12</td>\n",
       "      <td>Menú de Hamburguesa con queso, 6.00</td>\n",
       "    </tr>\n",
       "    <tr>\n",
       "      <th>3</th>\n",
       "      <td>11</td>\n",
       "      <td>Menú de Pollo, 5.00</td>\n",
       "    </tr>\n",
       "    <tr>\n",
       "      <th>4</th>\n",
       "      <td>12</td>\n",
       "      <td>Menú de Hamburguesa con queso, 6.00</td>\n",
       "    </tr>\n",
       "  </tbody>\n",
       "</table>\n",
       "</div>"
      ],
      "text/plain": [
       "  Codigo                         NombrePrecio\n",
       "0     02                        Patatas, 2.00\n",
       "1     09                      Coca cola, 3.00\n",
       "2     12  Menú de Hamburguesa con queso, 6.00\n",
       "3     11                  Menú de Pollo, 5.00\n",
       "4     12  Menú de Hamburguesa con queso, 6.00"
      ]
     },
     "execution_count": 39,
     "metadata": {},
     "output_type": "execute_result"
    }
   ],
   "source": [
    "df10=pd.read_sql(query10, con=connection)\n",
    "df10"
   ]
  },
  {
   "attachments": {},
   "cell_type": "markdown",
   "metadata": {},
   "source": [
    "### Obtener por cada repartidor, su nombre, cantidad de pedidos y el tiempo medio que tardan en entregar los pedidos una vez preparados. Ordenar el listado el tiempo medio que tardan en entregarlos."
   ]
  },
  {
   "cell_type": "code",
   "execution_count": 40,
   "metadata": {},
   "outputs": [
    {
     "data": {
      "text/plain": [
       "[('Laura Jiménez Jiménez', 2, Decimal('12.5000')),\n",
       " ('Juan Pardo Rubio', 1, Decimal('15.0000')),\n",
       " ('Carlos Sánchez Ruíz', 2, Decimal('19.0000')),\n",
       " ('Alejandro Pardo López', 3, Decimal('25.0000')),\n",
       " ('Juan Sánchez López', 1, Decimal('30.0000'))]"
      ]
     },
     "execution_count": 40,
     "metadata": {},
     "output_type": "execute_result"
    }
   ],
   "source": [
    "query11=\"\"\" SELECT\n",
    "\tre.Nombre,\n",
    "    COUNT(p.Numero) TotalPedidos,\n",
    "\tAVG(TIMESTAMPDIFF(MINUTE, p.Hora_pre, p.Hora_rep)) MediaTiempoEntrega\n",
    "FROM\n",
    "\tPEDIDO p\n",
    "INNER JOIN\n",
    "\tREPARTIDOR re ON re.DNI=p.DNI_R\n",
    "GROUP BY\n",
    "\tre.Nombre\n",
    "ORDER BY\n",
    "\tAVG(TIMESTAMPDIFF(MINUTE, p.Hora_pre, p.Hora_rep)); \"\"\"\n",
    "cursor.execute(query11)\n",
    "cursor.fetchall()"
   ]
  },
  {
   "cell_type": "code",
   "execution_count": 41,
   "metadata": {},
   "outputs": [
    {
     "name": "stderr",
     "output_type": "stream",
     "text": [
      "C:\\Users\\Russhi\\AppData\\Local\\Temp\\ipykernel_23248\\2813535984.py:1: UserWarning: pandas only supports SQLAlchemy connectable (engine/connection) or database string URI or sqlite3 DBAPI2 connection. Other DBAPI2 objects are not tested. Please consider using SQLAlchemy.\n",
      "  df11=pd.read_sql(query11, con=connection)\n"
     ]
    },
    {
     "data": {
      "text/html": [
       "<div>\n",
       "<style scoped>\n",
       "    .dataframe tbody tr th:only-of-type {\n",
       "        vertical-align: middle;\n",
       "    }\n",
       "\n",
       "    .dataframe tbody tr th {\n",
       "        vertical-align: top;\n",
       "    }\n",
       "\n",
       "    .dataframe thead th {\n",
       "        text-align: right;\n",
       "    }\n",
       "</style>\n",
       "<table border=\"1\" class=\"dataframe\">\n",
       "  <thead>\n",
       "    <tr style=\"text-align: right;\">\n",
       "      <th></th>\n",
       "      <th>Nombre</th>\n",
       "      <th>TotalPedidos</th>\n",
       "      <th>MediaTiempoEntrega</th>\n",
       "    </tr>\n",
       "  </thead>\n",
       "  <tbody>\n",
       "    <tr>\n",
       "      <th>0</th>\n",
       "      <td>Laura Jiménez Jiménez</td>\n",
       "      <td>2</td>\n",
       "      <td>12.5</td>\n",
       "    </tr>\n",
       "    <tr>\n",
       "      <th>1</th>\n",
       "      <td>Juan Pardo Rubio</td>\n",
       "      <td>1</td>\n",
       "      <td>15.0</td>\n",
       "    </tr>\n",
       "    <tr>\n",
       "      <th>2</th>\n",
       "      <td>Carlos Sánchez Ruíz</td>\n",
       "      <td>2</td>\n",
       "      <td>19.0</td>\n",
       "    </tr>\n",
       "    <tr>\n",
       "      <th>3</th>\n",
       "      <td>Alejandro Pardo López</td>\n",
       "      <td>3</td>\n",
       "      <td>25.0</td>\n",
       "    </tr>\n",
       "    <tr>\n",
       "      <th>4</th>\n",
       "      <td>Juan Sánchez López</td>\n",
       "      <td>1</td>\n",
       "      <td>30.0</td>\n",
       "    </tr>\n",
       "  </tbody>\n",
       "</table>\n",
       "</div>"
      ],
      "text/plain": [
       "                  Nombre  TotalPedidos  MediaTiempoEntrega\n",
       "0  Laura Jiménez Jiménez             2                12.5\n",
       "1       Juan Pardo Rubio             1                15.0\n",
       "2    Carlos Sánchez Ruíz             2                19.0\n",
       "3  Alejandro Pardo López             3                25.0\n",
       "4     Juan Sánchez López             1                30.0"
      ]
     },
     "execution_count": 41,
     "metadata": {},
     "output_type": "execute_result"
    }
   ],
   "source": [
    "df11=pd.read_sql(query11, con=connection)\n",
    "df11"
   ]
  },
  {
   "attachments": {},
   "cell_type": "markdown",
   "metadata": {},
   "source": [
    "### Obtener un listado obteniendo el código, nombre y el precio de los productos cuyo precios sea el más barato o el más caro de todos."
   ]
  },
  {
   "cell_type": "code",
   "execution_count": 42,
   "metadata": {},
   "outputs": [
    {
     "data": {
      "text/plain": [
       "[('03', 'tomate', 0.5),\n",
       " ('05', 'Lechuga', 0.5),\n",
       " ('12', 'Menú de Hamburguesa con queso', 6.0),\n",
       " ('13', 'Menú de Pollo con queso', 6.0),\n",
       " ('14', 'Menú de Hamburguesa', 6.0)]"
      ]
     },
     "execution_count": 42,
     "metadata": {},
     "output_type": "execute_result"
    }
   ],
   "source": [
    "query12=\"\"\" SELECT *\n",
    "FROM\n",
    "\tPRODUCTO\n",
    "WHERE\n",
    "\t(Precio in (\n",
    "    SELECT\n",
    "\t\tMAX(Precio)\n",
    "\tFROM \n",
    "\t\tPRODUCTO))\n",
    "\tOR\n",
    "    (Precio in (\n",
    "    SELECT\n",
    "        MIN(Precio)\n",
    "\tFROM\n",
    "\t\tPRODUCTO\n",
    "        ))\n",
    "\tORDER BY\n",
    "\t\tPrecio; \"\"\"\n",
    "cursor.execute(query12)\n",
    "cursor.fetchall()"
   ]
  },
  {
   "cell_type": "code",
   "execution_count": 43,
   "metadata": {},
   "outputs": [
    {
     "name": "stderr",
     "output_type": "stream",
     "text": [
      "C:\\Users\\Russhi\\AppData\\Local\\Temp\\ipykernel_23248\\2004618977.py:1: UserWarning: pandas only supports SQLAlchemy connectable (engine/connection) or database string URI or sqlite3 DBAPI2 connection. Other DBAPI2 objects are not tested. Please consider using SQLAlchemy.\n",
      "  df12=pd.read_sql(query12, con=connection)\n"
     ]
    },
    {
     "data": {
      "text/html": [
       "<div>\n",
       "<style scoped>\n",
       "    .dataframe tbody tr th:only-of-type {\n",
       "        vertical-align: middle;\n",
       "    }\n",
       "\n",
       "    .dataframe tbody tr th {\n",
       "        vertical-align: top;\n",
       "    }\n",
       "\n",
       "    .dataframe thead th {\n",
       "        text-align: right;\n",
       "    }\n",
       "</style>\n",
       "<table border=\"1\" class=\"dataframe\">\n",
       "  <thead>\n",
       "    <tr style=\"text-align: right;\">\n",
       "      <th></th>\n",
       "      <th>Codigo</th>\n",
       "      <th>Nombre</th>\n",
       "      <th>Precio</th>\n",
       "    </tr>\n",
       "  </thead>\n",
       "  <tbody>\n",
       "    <tr>\n",
       "      <th>0</th>\n",
       "      <td>03</td>\n",
       "      <td>tomate</td>\n",
       "      <td>0.5</td>\n",
       "    </tr>\n",
       "    <tr>\n",
       "      <th>1</th>\n",
       "      <td>05</td>\n",
       "      <td>Lechuga</td>\n",
       "      <td>0.5</td>\n",
       "    </tr>\n",
       "    <tr>\n",
       "      <th>2</th>\n",
       "      <td>12</td>\n",
       "      <td>Menú de Hamburguesa con queso</td>\n",
       "      <td>6.0</td>\n",
       "    </tr>\n",
       "    <tr>\n",
       "      <th>3</th>\n",
       "      <td>13</td>\n",
       "      <td>Menú de Pollo con queso</td>\n",
       "      <td>6.0</td>\n",
       "    </tr>\n",
       "    <tr>\n",
       "      <th>4</th>\n",
       "      <td>14</td>\n",
       "      <td>Menú de Hamburguesa</td>\n",
       "      <td>6.0</td>\n",
       "    </tr>\n",
       "  </tbody>\n",
       "</table>\n",
       "</div>"
      ],
      "text/plain": [
       "  Codigo                         Nombre  Precio\n",
       "0     03                         tomate     0.5\n",
       "1     05                        Lechuga     0.5\n",
       "2     12  Menú de Hamburguesa con queso     6.0\n",
       "3     13        Menú de Pollo con queso     6.0\n",
       "4     14            Menú de Hamburguesa     6.0"
      ]
     },
     "execution_count": 43,
     "metadata": {},
     "output_type": "execute_result"
    }
   ],
   "source": [
    "df12=pd.read_sql(query12, con=connection)\n",
    "df12"
   ]
  },
  {
   "attachments": {},
   "cell_type": "markdown",
   "metadata": {},
   "source": [
    "### Obtener por cada producto , el nombre y código el número total de pedidos en los que se encuentra teniendo en cuenta que el total de pedidos en los cuales se encuentre sea superior o igual a dos. Ordena el listado de mayor a menor número de productos."
   ]
  },
  {
   "cell_type": "code",
   "execution_count": 44,
   "metadata": {},
   "outputs": [
    {
     "data": {
      "text/plain": [
       "[('13', 'Menú de Pollo con queso', Decimal('15')),\n",
       " ('12', 'Menú de Hamburguesa con queso', Decimal('11')),\n",
       " ('04', 'Queso', Decimal('6')),\n",
       " ('11', 'Menú de Pollo', Decimal('4')),\n",
       " ('15', 'Helado', Decimal('3')),\n",
       " ('16', 'Tarta', Decimal('3')),\n",
       " ('02', 'Patatas', Decimal('2')),\n",
       " ('14', 'Menú de Hamburguesa', Decimal('2'))]"
      ]
     },
     "execution_count": 44,
     "metadata": {},
     "output_type": "execute_result"
    }
   ],
   "source": [
    "query13=\"\"\" SELECT \n",
    "\tpro.Codigo,\n",
    "    pro.Nombre,\n",
    "    SUM(con.cantidad) TotalPedidos\n",
    "FROM\n",
    "\tconsta con\n",
    "INNER JOIN\n",
    "\tPEDIDO p ON con.Numero_P=p.Numero\n",
    "INNER JOIN\n",
    "\tPRODUCTO pro ON con.Codigo_Pr=pro.Codigo\n",
    "WHERE (\n",
    "SELECT SUM(cantidad)\n",
    "FROM consta\n",
    "WHERE Codigo_Pr= pro.Codigo)>=2\n",
    "GROUP BY \n",
    "\tpro.Codigo\n",
    "ORDER BY\n",
    "\tSUM(con.cantidad) DESC; \"\"\"\n",
    "cursor.execute(query13)\n",
    "cursor.fetchall()"
   ]
  },
  {
   "cell_type": "code",
   "execution_count": 45,
   "metadata": {},
   "outputs": [
    {
     "name": "stderr",
     "output_type": "stream",
     "text": [
      "C:\\Users\\Russhi\\AppData\\Local\\Temp\\ipykernel_23248\\1720338336.py:1: UserWarning: pandas only supports SQLAlchemy connectable (engine/connection) or database string URI or sqlite3 DBAPI2 connection. Other DBAPI2 objects are not tested. Please consider using SQLAlchemy.\n",
      "  df13=pd.read_sql(query13, con=connection)\n"
     ]
    },
    {
     "data": {
      "text/html": [
       "<div>\n",
       "<style scoped>\n",
       "    .dataframe tbody tr th:only-of-type {\n",
       "        vertical-align: middle;\n",
       "    }\n",
       "\n",
       "    .dataframe tbody tr th {\n",
       "        vertical-align: top;\n",
       "    }\n",
       "\n",
       "    .dataframe thead th {\n",
       "        text-align: right;\n",
       "    }\n",
       "</style>\n",
       "<table border=\"1\" class=\"dataframe\">\n",
       "  <thead>\n",
       "    <tr style=\"text-align: right;\">\n",
       "      <th></th>\n",
       "      <th>Codigo</th>\n",
       "      <th>Nombre</th>\n",
       "      <th>TotalPedidos</th>\n",
       "    </tr>\n",
       "  </thead>\n",
       "  <tbody>\n",
       "    <tr>\n",
       "      <th>0</th>\n",
       "      <td>13</td>\n",
       "      <td>Menú de Pollo con queso</td>\n",
       "      <td>15.0</td>\n",
       "    </tr>\n",
       "    <tr>\n",
       "      <th>1</th>\n",
       "      <td>12</td>\n",
       "      <td>Menú de Hamburguesa con queso</td>\n",
       "      <td>11.0</td>\n",
       "    </tr>\n",
       "    <tr>\n",
       "      <th>2</th>\n",
       "      <td>04</td>\n",
       "      <td>Queso</td>\n",
       "      <td>6.0</td>\n",
       "    </tr>\n",
       "    <tr>\n",
       "      <th>3</th>\n",
       "      <td>11</td>\n",
       "      <td>Menú de Pollo</td>\n",
       "      <td>4.0</td>\n",
       "    </tr>\n",
       "    <tr>\n",
       "      <th>4</th>\n",
       "      <td>15</td>\n",
       "      <td>Helado</td>\n",
       "      <td>3.0</td>\n",
       "    </tr>\n",
       "    <tr>\n",
       "      <th>5</th>\n",
       "      <td>16</td>\n",
       "      <td>Tarta</td>\n",
       "      <td>3.0</td>\n",
       "    </tr>\n",
       "    <tr>\n",
       "      <th>6</th>\n",
       "      <td>02</td>\n",
       "      <td>Patatas</td>\n",
       "      <td>2.0</td>\n",
       "    </tr>\n",
       "    <tr>\n",
       "      <th>7</th>\n",
       "      <td>14</td>\n",
       "      <td>Menú de Hamburguesa</td>\n",
       "      <td>2.0</td>\n",
       "    </tr>\n",
       "  </tbody>\n",
       "</table>\n",
       "</div>"
      ],
      "text/plain": [
       "  Codigo                         Nombre  TotalPedidos\n",
       "0     13        Menú de Pollo con queso          15.0\n",
       "1     12  Menú de Hamburguesa con queso          11.0\n",
       "2     04                          Queso           6.0\n",
       "3     11                  Menú de Pollo           4.0\n",
       "4     15                         Helado           3.0\n",
       "5     16                          Tarta           3.0\n",
       "6     02                        Patatas           2.0\n",
       "7     14            Menú de Hamburguesa           2.0"
      ]
     },
     "execution_count": 45,
     "metadata": {},
     "output_type": "execute_result"
    }
   ],
   "source": [
    "df13=pd.read_sql(query13, con=connection)\n",
    "df13"
   ]
  },
  {
   "attachments": {},
   "cell_type": "markdown",
   "metadata": {},
   "source": [
    "### Mostrar listado de los empleados (código y NSS en la misma columna) que han tomado nota de algún pedido y contienen el producto de código 13 y además el repartidor sea 'Laura'."
   ]
  },
  {
   "cell_type": "code",
   "execution_count": 46,
   "metadata": {},
   "outputs": [
    {
     "data": {
      "text/plain": [
       "[('99999999X, 55566677789', 'Raúl Rodrigo Roca'),\n",
       " ('14567555L, 23456734534', 'Piedad Colmenero Zapillo')]"
      ]
     },
     "execution_count": 46,
     "metadata": {},
     "output_type": "execute_result"
    }
   ],
   "source": [
    "query14=\"\"\" SELECT \n",
    "\tCONCAT(emp.DNI, ', ',emp.NSS) Identificación,\n",
    "    emp.Nombre\n",
    "FROM \n",
    "\tPEDIDO p\n",
    "RIGHT OUTER JOIN \n",
    "\tEMPLEADO emp ON emp.DNI = p.DNI_ETM\n",
    "RIGHT OUTER JOIN \n",
    "\tREPARTIDOR r ON r.DNI = p.DNI_R\n",
    "INNER JOIN \n",
    "\tconsta con ON con.Numero_P = p.Numero\n",
    "INNER JOIN \n",
    "\tPRODUCTO pro ON con.Codigo_Pr = pro.Codigo\n",
    "WHERE \n",
    "\t(r.Nombre LIKE 'Laura%') AND (p.DNI_ETM IS NOT NULL) AND (pro.Codigo = '13'); \"\"\"\n",
    "cursor.execute(query14)\n",
    "cursor.fetchall()"
   ]
  },
  {
   "cell_type": "code",
   "execution_count": 47,
   "metadata": {},
   "outputs": [
    {
     "name": "stderr",
     "output_type": "stream",
     "text": [
      "C:\\Users\\Russhi\\AppData\\Local\\Temp\\ipykernel_23248\\2495470260.py:1: UserWarning: pandas only supports SQLAlchemy connectable (engine/connection) or database string URI or sqlite3 DBAPI2 connection. Other DBAPI2 objects are not tested. Please consider using SQLAlchemy.\n",
      "  df14=pd.read_sql(query14, con=connection)\n"
     ]
    },
    {
     "data": {
      "text/html": [
       "<div>\n",
       "<style scoped>\n",
       "    .dataframe tbody tr th:only-of-type {\n",
       "        vertical-align: middle;\n",
       "    }\n",
       "\n",
       "    .dataframe tbody tr th {\n",
       "        vertical-align: top;\n",
       "    }\n",
       "\n",
       "    .dataframe thead th {\n",
       "        text-align: right;\n",
       "    }\n",
       "</style>\n",
       "<table border=\"1\" class=\"dataframe\">\n",
       "  <thead>\n",
       "    <tr style=\"text-align: right;\">\n",
       "      <th></th>\n",
       "      <th>Identificación</th>\n",
       "      <th>Nombre</th>\n",
       "    </tr>\n",
       "  </thead>\n",
       "  <tbody>\n",
       "    <tr>\n",
       "      <th>0</th>\n",
       "      <td>99999999X, 55566677789</td>\n",
       "      <td>Raúl Rodrigo Roca</td>\n",
       "    </tr>\n",
       "    <tr>\n",
       "      <th>1</th>\n",
       "      <td>14567555L, 23456734534</td>\n",
       "      <td>Piedad Colmenero Zapillo</td>\n",
       "    </tr>\n",
       "  </tbody>\n",
       "</table>\n",
       "</div>"
      ],
      "text/plain": [
       "           Identificación                    Nombre\n",
       "0  99999999X, 55566677789         Raúl Rodrigo Roca\n",
       "1  14567555L, 23456734534  Piedad Colmenero Zapillo"
      ]
     },
     "execution_count": 47,
     "metadata": {},
     "output_type": "execute_result"
    }
   ],
   "source": [
    "df14=pd.read_sql(query14, con=connection)\n",
    "df14"
   ]
  },
  {
   "attachments": {},
   "cell_type": "markdown",
   "metadata": {},
   "source": [
    "### Obtener el nombre del producto que es menú junto con el código de los productos que lo componen en aquellos pedidos del mes de septiembre de 2020."
   ]
  },
  {
   "cell_type": "code",
   "execution_count": 48,
   "metadata": {},
   "outputs": [
    {
     "data": {
      "text/plain": [
       "[('Menú de Hamburguesa con queso', '01'),\n",
       " ('Menú de Hamburguesa con queso', '02'),\n",
       " ('Menú de Hamburguesa con queso', '04'),\n",
       " ('Menú de Hamburguesa con queso', '10'),\n",
       " ('Menú de Hamburguesa con queso', '16'),\n",
       " ('Menú de Pollo con queso', '02'),\n",
       " ('Menú de Pollo con queso', '04'),\n",
       " ('Menú de Pollo con queso', '06'),\n",
       " ('Menú de Pollo con queso', '08'),\n",
       " ('Menú de Pollo con queso', '09'),\n",
       " ('Menú de Pollo con queso', '15'),\n",
       " ('Menú de Hamburguesa con queso', '01'),\n",
       " ('Menú de Hamburguesa con queso', '02'),\n",
       " ('Menú de Hamburguesa con queso', '04'),\n",
       " ('Menú de Hamburguesa con queso', '10'),\n",
       " ('Menú de Hamburguesa con queso', '16'),\n",
       " ('Menú de Pollo', '02'),\n",
       " ('Menú de Pollo', '03'),\n",
       " ('Menú de Pollo', '06'),\n",
       " ('Menú de Pollo', '17'),\n",
       " ('Menú de Pollo', '18'),\n",
       " ('Menú de Pollo con queso', '02'),\n",
       " ('Menú de Pollo con queso', '04'),\n",
       " ('Menú de Pollo con queso', '06'),\n",
       " ('Menú de Pollo con queso', '08'),\n",
       " ('Menú de Pollo con queso', '09'),\n",
       " ('Menú de Pollo con queso', '15')]"
      ]
     },
     "execution_count": 48,
     "metadata": {},
     "output_type": "execute_result"
    }
   ],
   "source": [
    "query15=\"\"\" SELECT\n",
    "\tpro.Nombre,\n",
    "    comp.Codigo_P_compuesto\n",
    "FROM \n",
    "\tPRODUCTO pro\n",
    "INNER JOIN\n",
    "\testa_compuesto comp ON pro.Codigo=comp.Codigo_P\n",
    "INNER JOIN\n",
    "\tconsta con ON con.Codigo_Pr = pro.Codigo\n",
    "INNER JOIN\n",
    "\tPEDIDO p ON con.Numero_P = p.Numero\n",
    "WHERE (pro.Codigo in (comp.Codigo_P)) AND (p.Fecha like '2020-09-%'); \"\"\"\n",
    "cursor.execute(query15)\n",
    "cursor.fetchall()"
   ]
  },
  {
   "cell_type": "code",
   "execution_count": 49,
   "metadata": {},
   "outputs": [
    {
     "name": "stderr",
     "output_type": "stream",
     "text": [
      "C:\\Users\\Russhi\\AppData\\Local\\Temp\\ipykernel_23248\\703776082.py:1: UserWarning: pandas only supports SQLAlchemy connectable (engine/connection) or database string URI or sqlite3 DBAPI2 connection. Other DBAPI2 objects are not tested. Please consider using SQLAlchemy.\n",
      "  df15=pd.read_sql(query15, con=connection)\n"
     ]
    },
    {
     "data": {
      "text/html": [
       "<div>\n",
       "<style scoped>\n",
       "    .dataframe tbody tr th:only-of-type {\n",
       "        vertical-align: middle;\n",
       "    }\n",
       "\n",
       "    .dataframe tbody tr th {\n",
       "        vertical-align: top;\n",
       "    }\n",
       "\n",
       "    .dataframe thead th {\n",
       "        text-align: right;\n",
       "    }\n",
       "</style>\n",
       "<table border=\"1\" class=\"dataframe\">\n",
       "  <thead>\n",
       "    <tr style=\"text-align: right;\">\n",
       "      <th></th>\n",
       "      <th>Nombre</th>\n",
       "      <th>Codigo_P_compuesto</th>\n",
       "    </tr>\n",
       "  </thead>\n",
       "  <tbody>\n",
       "    <tr>\n",
       "      <th>0</th>\n",
       "      <td>Menú de Hamburguesa con queso</td>\n",
       "      <td>01</td>\n",
       "    </tr>\n",
       "    <tr>\n",
       "      <th>1</th>\n",
       "      <td>Menú de Hamburguesa con queso</td>\n",
       "      <td>02</td>\n",
       "    </tr>\n",
       "    <tr>\n",
       "      <th>2</th>\n",
       "      <td>Menú de Hamburguesa con queso</td>\n",
       "      <td>04</td>\n",
       "    </tr>\n",
       "    <tr>\n",
       "      <th>3</th>\n",
       "      <td>Menú de Hamburguesa con queso</td>\n",
       "      <td>10</td>\n",
       "    </tr>\n",
       "    <tr>\n",
       "      <th>4</th>\n",
       "      <td>Menú de Hamburguesa con queso</td>\n",
       "      <td>16</td>\n",
       "    </tr>\n",
       "    <tr>\n",
       "      <th>5</th>\n",
       "      <td>Menú de Pollo con queso</td>\n",
       "      <td>02</td>\n",
       "    </tr>\n",
       "    <tr>\n",
       "      <th>6</th>\n",
       "      <td>Menú de Pollo con queso</td>\n",
       "      <td>04</td>\n",
       "    </tr>\n",
       "    <tr>\n",
       "      <th>7</th>\n",
       "      <td>Menú de Pollo con queso</td>\n",
       "      <td>06</td>\n",
       "    </tr>\n",
       "    <tr>\n",
       "      <th>8</th>\n",
       "      <td>Menú de Pollo con queso</td>\n",
       "      <td>08</td>\n",
       "    </tr>\n",
       "    <tr>\n",
       "      <th>9</th>\n",
       "      <td>Menú de Pollo con queso</td>\n",
       "      <td>09</td>\n",
       "    </tr>\n",
       "    <tr>\n",
       "      <th>10</th>\n",
       "      <td>Menú de Pollo con queso</td>\n",
       "      <td>15</td>\n",
       "    </tr>\n",
       "    <tr>\n",
       "      <th>11</th>\n",
       "      <td>Menú de Hamburguesa con queso</td>\n",
       "      <td>01</td>\n",
       "    </tr>\n",
       "    <tr>\n",
       "      <th>12</th>\n",
       "      <td>Menú de Hamburguesa con queso</td>\n",
       "      <td>02</td>\n",
       "    </tr>\n",
       "    <tr>\n",
       "      <th>13</th>\n",
       "      <td>Menú de Hamburguesa con queso</td>\n",
       "      <td>04</td>\n",
       "    </tr>\n",
       "    <tr>\n",
       "      <th>14</th>\n",
       "      <td>Menú de Hamburguesa con queso</td>\n",
       "      <td>10</td>\n",
       "    </tr>\n",
       "    <tr>\n",
       "      <th>15</th>\n",
       "      <td>Menú de Hamburguesa con queso</td>\n",
       "      <td>16</td>\n",
       "    </tr>\n",
       "    <tr>\n",
       "      <th>16</th>\n",
       "      <td>Menú de Pollo</td>\n",
       "      <td>02</td>\n",
       "    </tr>\n",
       "    <tr>\n",
       "      <th>17</th>\n",
       "      <td>Menú de Pollo</td>\n",
       "      <td>03</td>\n",
       "    </tr>\n",
       "    <tr>\n",
       "      <th>18</th>\n",
       "      <td>Menú de Pollo</td>\n",
       "      <td>06</td>\n",
       "    </tr>\n",
       "    <tr>\n",
       "      <th>19</th>\n",
       "      <td>Menú de Pollo</td>\n",
       "      <td>17</td>\n",
       "    </tr>\n",
       "    <tr>\n",
       "      <th>20</th>\n",
       "      <td>Menú de Pollo</td>\n",
       "      <td>18</td>\n",
       "    </tr>\n",
       "    <tr>\n",
       "      <th>21</th>\n",
       "      <td>Menú de Pollo con queso</td>\n",
       "      <td>02</td>\n",
       "    </tr>\n",
       "    <tr>\n",
       "      <th>22</th>\n",
       "      <td>Menú de Pollo con queso</td>\n",
       "      <td>04</td>\n",
       "    </tr>\n",
       "    <tr>\n",
       "      <th>23</th>\n",
       "      <td>Menú de Pollo con queso</td>\n",
       "      <td>06</td>\n",
       "    </tr>\n",
       "    <tr>\n",
       "      <th>24</th>\n",
       "      <td>Menú de Pollo con queso</td>\n",
       "      <td>08</td>\n",
       "    </tr>\n",
       "    <tr>\n",
       "      <th>25</th>\n",
       "      <td>Menú de Pollo con queso</td>\n",
       "      <td>09</td>\n",
       "    </tr>\n",
       "    <tr>\n",
       "      <th>26</th>\n",
       "      <td>Menú de Pollo con queso</td>\n",
       "      <td>15</td>\n",
       "    </tr>\n",
       "  </tbody>\n",
       "</table>\n",
       "</div>"
      ],
      "text/plain": [
       "                           Nombre Codigo_P_compuesto\n",
       "0   Menú de Hamburguesa con queso                 01\n",
       "1   Menú de Hamburguesa con queso                 02\n",
       "2   Menú de Hamburguesa con queso                 04\n",
       "3   Menú de Hamburguesa con queso                 10\n",
       "4   Menú de Hamburguesa con queso                 16\n",
       "5         Menú de Pollo con queso                 02\n",
       "6         Menú de Pollo con queso                 04\n",
       "7         Menú de Pollo con queso                 06\n",
       "8         Menú de Pollo con queso                 08\n",
       "9         Menú de Pollo con queso                 09\n",
       "10        Menú de Pollo con queso                 15\n",
       "11  Menú de Hamburguesa con queso                 01\n",
       "12  Menú de Hamburguesa con queso                 02\n",
       "13  Menú de Hamburguesa con queso                 04\n",
       "14  Menú de Hamburguesa con queso                 10\n",
       "15  Menú de Hamburguesa con queso                 16\n",
       "16                  Menú de Pollo                 02\n",
       "17                  Menú de Pollo                 03\n",
       "18                  Menú de Pollo                 06\n",
       "19                  Menú de Pollo                 17\n",
       "20                  Menú de Pollo                 18\n",
       "21        Menú de Pollo con queso                 02\n",
       "22        Menú de Pollo con queso                 04\n",
       "23        Menú de Pollo con queso                 06\n",
       "24        Menú de Pollo con queso                 08\n",
       "25        Menú de Pollo con queso                 09\n",
       "26        Menú de Pollo con queso                 15"
      ]
     },
     "execution_count": 49,
     "metadata": {},
     "output_type": "execute_result"
    }
   ],
   "source": [
    "df15=pd.read_sql(query15, con=connection)\n",
    "df15"
   ]
  },
  {
   "attachments": {},
   "cell_type": "markdown",
   "metadata": {},
   "source": [
    "### Insertar un nuevo registro en la tabla EMPLEADOS."
   ]
  },
  {
   "cell_type": "code",
   "execution_count": 50,
   "metadata": {},
   "outputs": [],
   "source": [
    "query16=\"\"\" INSERT INTO EMPLEADO (DNI, Nombre, Nss, Turno, Salario)\n",
    "VALUES ('98567432x', 'Luis Fernández Cáceres', '09809809822', 'tarde', 850.00); \"\"\"\n",
    "cursor.execute(query16)\n",
    "connection.commit()"
   ]
  },
  {
   "cell_type": "code",
   "execution_count": 51,
   "metadata": {},
   "outputs": [
    {
     "data": {
      "text/plain": [
       "[('98567432x', 'Luis Fernández Cáceres', '09809809822', 'tarde', 850.0)]"
      ]
     },
     "execution_count": 51,
     "metadata": {},
     "output_type": "execute_result"
    }
   ],
   "source": [
    "query16_1=\"\"\" SELECT *\n",
    "FROM \n",
    "\tEMPLEADO\n",
    "WHERE\n",
    "\tDNI='98567432x' \"\"\"\n",
    "cursor.execute(query16_1)\n",
    "cursor.fetchall()"
   ]
  },
  {
   "cell_type": "code",
   "execution_count": 52,
   "metadata": {},
   "outputs": [
    {
     "name": "stderr",
     "output_type": "stream",
     "text": [
      "C:\\Users\\Russhi\\AppData\\Local\\Temp\\ipykernel_23248\\4142588565.py:1: UserWarning: pandas only supports SQLAlchemy connectable (engine/connection) or database string URI or sqlite3 DBAPI2 connection. Other DBAPI2 objects are not tested. Please consider using SQLAlchemy.\n",
      "  df16=pd.read_sql(query16_1, con=connection)\n"
     ]
    },
    {
     "data": {
      "text/html": [
       "<div>\n",
       "<style scoped>\n",
       "    .dataframe tbody tr th:only-of-type {\n",
       "        vertical-align: middle;\n",
       "    }\n",
       "\n",
       "    .dataframe tbody tr th {\n",
       "        vertical-align: top;\n",
       "    }\n",
       "\n",
       "    .dataframe thead th {\n",
       "        text-align: right;\n",
       "    }\n",
       "</style>\n",
       "<table border=\"1\" class=\"dataframe\">\n",
       "  <thead>\n",
       "    <tr style=\"text-align: right;\">\n",
       "      <th></th>\n",
       "      <th>DNI</th>\n",
       "      <th>Nombre</th>\n",
       "      <th>Nss</th>\n",
       "      <th>Turno</th>\n",
       "      <th>Salario</th>\n",
       "    </tr>\n",
       "  </thead>\n",
       "  <tbody>\n",
       "    <tr>\n",
       "      <th>0</th>\n",
       "      <td>98567432x</td>\n",
       "      <td>Luis Fernández Cáceres</td>\n",
       "      <td>09809809822</td>\n",
       "      <td>tarde</td>\n",
       "      <td>850.0</td>\n",
       "    </tr>\n",
       "  </tbody>\n",
       "</table>\n",
       "</div>"
      ],
      "text/plain": [
       "         DNI                  Nombre          Nss  Turno  Salario\n",
       "0  98567432x  Luis Fernández Cáceres  09809809822  tarde    850.0"
      ]
     },
     "execution_count": 52,
     "metadata": {},
     "output_type": "execute_result"
    }
   ],
   "source": [
    "df16=pd.read_sql(query16_1, con=connection)\n",
    "df16"
   ]
  },
  {
   "attachments": {},
   "cell_type": "markdown",
   "metadata": {},
   "source": [
    "### El pedido con número 010 se la ha asignado el repartidor 11245621Q y se ha sido entregado a la hora 22:20:45."
   ]
  },
  {
   "cell_type": "code",
   "execution_count": 53,
   "metadata": {},
   "outputs": [],
   "source": [
    "query17=\"\"\" UPDATE PEDIDO\n",
    "SET \n",
    "\tDNI_R = '11245621Q', Hora_rep = '22:20:45'\n",
    "WHERE \n",
    "\tNumero = '0010'; \"\"\"\n",
    "cursor.execute(query17)\n",
    "connection.commit()"
   ]
  },
  {
   "cell_type": "code",
   "execution_count": 54,
   "metadata": {},
   "outputs": [
    {
     "data": {
      "text/plain": [
       "[('0010',\n",
       "  datetime.date(2020, 11, 5),\n",
       "  45.0,\n",
       "  '88888888O',\n",
       "  '14567555L',\n",
       "  '11245621Q',\n",
       "  datetime.timedelta(seconds=79500),\n",
       "  datetime.timedelta(seconds=79920),\n",
       "  datetime.timedelta(seconds=80445))]"
      ]
     },
     "execution_count": 54,
     "metadata": {},
     "output_type": "execute_result"
    }
   ],
   "source": [
    "query17_1=\"\"\" SELECT *\n",
    "FROM\n",
    "    PEDIDO\n",
    "WHERE\n",
    "\tNumero = '0010'; \"\"\"\n",
    "cursor.execute(query17_1)\n",
    "cursor.fetchall()"
   ]
  },
  {
   "cell_type": "code",
   "execution_count": 55,
   "metadata": {},
   "outputs": [
    {
     "name": "stderr",
     "output_type": "stream",
     "text": [
      "C:\\Users\\Russhi\\AppData\\Local\\Temp\\ipykernel_23248\\2261152747.py:1: UserWarning: pandas only supports SQLAlchemy connectable (engine/connection) or database string URI or sqlite3 DBAPI2 connection. Other DBAPI2 objects are not tested. Please consider using SQLAlchemy.\n",
      "  df17=pd.read_sql(query17_1, con=connection)\n"
     ]
    },
    {
     "data": {
      "text/html": [
       "<div>\n",
       "<style scoped>\n",
       "    .dataframe tbody tr th:only-of-type {\n",
       "        vertical-align: middle;\n",
       "    }\n",
       "\n",
       "    .dataframe tbody tr th {\n",
       "        vertical-align: top;\n",
       "    }\n",
       "\n",
       "    .dataframe thead th {\n",
       "        text-align: right;\n",
       "    }\n",
       "</style>\n",
       "<table border=\"1\" class=\"dataframe\">\n",
       "  <thead>\n",
       "    <tr style=\"text-align: right;\">\n",
       "      <th></th>\n",
       "      <th>Numero</th>\n",
       "      <th>Fecha</th>\n",
       "      <th>Importe</th>\n",
       "      <th>DNI_ETM</th>\n",
       "      <th>DNI_EP</th>\n",
       "      <th>DNI_R</th>\n",
       "      <th>Hora_tm</th>\n",
       "      <th>Hora_pre</th>\n",
       "      <th>Hora_rep</th>\n",
       "    </tr>\n",
       "  </thead>\n",
       "  <tbody>\n",
       "    <tr>\n",
       "      <th>0</th>\n",
       "      <td>0010</td>\n",
       "      <td>2020-11-05</td>\n",
       "      <td>45.0</td>\n",
       "      <td>88888888O</td>\n",
       "      <td>14567555L</td>\n",
       "      <td>11245621Q</td>\n",
       "      <td>0 days 22:05:00</td>\n",
       "      <td>0 days 22:12:00</td>\n",
       "      <td>0 days 22:20:45</td>\n",
       "    </tr>\n",
       "  </tbody>\n",
       "</table>\n",
       "</div>"
      ],
      "text/plain": [
       "  Numero       Fecha  Importe    DNI_ETM     DNI_EP      DNI_R  \\\n",
       "0   0010  2020-11-05     45.0  88888888O  14567555L  11245621Q   \n",
       "\n",
       "          Hora_tm        Hora_pre        Hora_rep  \n",
       "0 0 days 22:05:00 0 days 22:12:00 0 days 22:20:45  "
      ]
     },
     "execution_count": 55,
     "metadata": {},
     "output_type": "execute_result"
    }
   ],
   "source": [
    "df17=pd.read_sql(query17_1, con=connection)\n",
    "df17"
   ]
  },
  {
   "attachments": {},
   "cell_type": "markdown",
   "metadata": {},
   "source": [
    "### El producto fruta (17) está agotado, por favor borrar de la tabla correspondiente"
   ]
  },
  {
   "cell_type": "code",
   "execution_count": 56,
   "metadata": {},
   "outputs": [],
   "source": [
    "query18=\"\"\" DELETE FROM PRODUCTO WHERE Codigo='17' \"\"\"\n",
    "cursor.execute(query18)\n",
    "connection.commit()"
   ]
  },
  {
   "cell_type": "code",
   "execution_count": 57,
   "metadata": {},
   "outputs": [
    {
     "data": {
      "text/plain": [
       "[('01', 'Hamburguesa', 2.6),\n",
       " ('02', 'Patatas', 2.0),\n",
       " ('03', 'tomate', 0.5),\n",
       " ('04', 'Queso', 1.0),\n",
       " ('05', 'Lechuga', 0.5),\n",
       " ('06', 'Pollo', 3.6),\n",
       " ('08', 'Bacon', 1.5),\n",
       " ('09', 'Coca cola', 3.0),\n",
       " ('10', 'Nestea', 3.0),\n",
       " ('11', 'Menú de Pollo', 5.0),\n",
       " ('12', 'Menú de Hamburguesa con queso', 6.0),\n",
       " ('13', 'Menú de Pollo con queso', 6.0),\n",
       " ('14', 'Menú de Hamburguesa', 6.0),\n",
       " ('15', 'Helado', 1.0),\n",
       " ('16', 'Tarta', 2.0),\n",
       " ('18', 'Agua', 2.0),\n",
       " ('19', 'Fanta', 3.0)]"
      ]
     },
     "execution_count": 57,
     "metadata": {},
     "output_type": "execute_result"
    }
   ],
   "source": [
    "query18_1=\"\"\" SELECT *\n",
    "FROM\n",
    "    PRODUCTO\n",
    "\"\"\"\n",
    "cursor.execute(query18_1)\n",
    "cursor.fetchall()"
   ]
  },
  {
   "cell_type": "code",
   "execution_count": 58,
   "metadata": {},
   "outputs": [
    {
     "name": "stderr",
     "output_type": "stream",
     "text": [
      "C:\\Users\\Russhi\\AppData\\Local\\Temp\\ipykernel_23248\\88820627.py:1: UserWarning: pandas only supports SQLAlchemy connectable (engine/connection) or database string URI or sqlite3 DBAPI2 connection. Other DBAPI2 objects are not tested. Please consider using SQLAlchemy.\n",
      "  df18=pd.read_sql(query18_1, con=connection)\n"
     ]
    },
    {
     "data": {
      "text/html": [
       "<div>\n",
       "<style scoped>\n",
       "    .dataframe tbody tr th:only-of-type {\n",
       "        vertical-align: middle;\n",
       "    }\n",
       "\n",
       "    .dataframe tbody tr th {\n",
       "        vertical-align: top;\n",
       "    }\n",
       "\n",
       "    .dataframe thead th {\n",
       "        text-align: right;\n",
       "    }\n",
       "</style>\n",
       "<table border=\"1\" class=\"dataframe\">\n",
       "  <thead>\n",
       "    <tr style=\"text-align: right;\">\n",
       "      <th></th>\n",
       "      <th>Codigo</th>\n",
       "      <th>Nombre</th>\n",
       "      <th>Precio</th>\n",
       "    </tr>\n",
       "  </thead>\n",
       "  <tbody>\n",
       "    <tr>\n",
       "      <th>0</th>\n",
       "      <td>01</td>\n",
       "      <td>Hamburguesa</td>\n",
       "      <td>2.6</td>\n",
       "    </tr>\n",
       "    <tr>\n",
       "      <th>1</th>\n",
       "      <td>02</td>\n",
       "      <td>Patatas</td>\n",
       "      <td>2.0</td>\n",
       "    </tr>\n",
       "    <tr>\n",
       "      <th>2</th>\n",
       "      <td>03</td>\n",
       "      <td>tomate</td>\n",
       "      <td>0.5</td>\n",
       "    </tr>\n",
       "    <tr>\n",
       "      <th>3</th>\n",
       "      <td>04</td>\n",
       "      <td>Queso</td>\n",
       "      <td>1.0</td>\n",
       "    </tr>\n",
       "    <tr>\n",
       "      <th>4</th>\n",
       "      <td>05</td>\n",
       "      <td>Lechuga</td>\n",
       "      <td>0.5</td>\n",
       "    </tr>\n",
       "    <tr>\n",
       "      <th>5</th>\n",
       "      <td>06</td>\n",
       "      <td>Pollo</td>\n",
       "      <td>3.6</td>\n",
       "    </tr>\n",
       "    <tr>\n",
       "      <th>6</th>\n",
       "      <td>08</td>\n",
       "      <td>Bacon</td>\n",
       "      <td>1.5</td>\n",
       "    </tr>\n",
       "    <tr>\n",
       "      <th>7</th>\n",
       "      <td>09</td>\n",
       "      <td>Coca cola</td>\n",
       "      <td>3.0</td>\n",
       "    </tr>\n",
       "    <tr>\n",
       "      <th>8</th>\n",
       "      <td>10</td>\n",
       "      <td>Nestea</td>\n",
       "      <td>3.0</td>\n",
       "    </tr>\n",
       "    <tr>\n",
       "      <th>9</th>\n",
       "      <td>11</td>\n",
       "      <td>Menú de Pollo</td>\n",
       "      <td>5.0</td>\n",
       "    </tr>\n",
       "    <tr>\n",
       "      <th>10</th>\n",
       "      <td>12</td>\n",
       "      <td>Menú de Hamburguesa con queso</td>\n",
       "      <td>6.0</td>\n",
       "    </tr>\n",
       "    <tr>\n",
       "      <th>11</th>\n",
       "      <td>13</td>\n",
       "      <td>Menú de Pollo con queso</td>\n",
       "      <td>6.0</td>\n",
       "    </tr>\n",
       "    <tr>\n",
       "      <th>12</th>\n",
       "      <td>14</td>\n",
       "      <td>Menú de Hamburguesa</td>\n",
       "      <td>6.0</td>\n",
       "    </tr>\n",
       "    <tr>\n",
       "      <th>13</th>\n",
       "      <td>15</td>\n",
       "      <td>Helado</td>\n",
       "      <td>1.0</td>\n",
       "    </tr>\n",
       "    <tr>\n",
       "      <th>14</th>\n",
       "      <td>16</td>\n",
       "      <td>Tarta</td>\n",
       "      <td>2.0</td>\n",
       "    </tr>\n",
       "    <tr>\n",
       "      <th>15</th>\n",
       "      <td>18</td>\n",
       "      <td>Agua</td>\n",
       "      <td>2.0</td>\n",
       "    </tr>\n",
       "    <tr>\n",
       "      <th>16</th>\n",
       "      <td>19</td>\n",
       "      <td>Fanta</td>\n",
       "      <td>3.0</td>\n",
       "    </tr>\n",
       "  </tbody>\n",
       "</table>\n",
       "</div>"
      ],
      "text/plain": [
       "   Codigo                         Nombre  Precio\n",
       "0      01                    Hamburguesa     2.6\n",
       "1      02                        Patatas     2.0\n",
       "2      03                         tomate     0.5\n",
       "3      04                          Queso     1.0\n",
       "4      05                        Lechuga     0.5\n",
       "5      06                          Pollo     3.6\n",
       "6      08                          Bacon     1.5\n",
       "7      09                      Coca cola     3.0\n",
       "8      10                         Nestea     3.0\n",
       "9      11                  Menú de Pollo     5.0\n",
       "10     12  Menú de Hamburguesa con queso     6.0\n",
       "11     13        Menú de Pollo con queso     6.0\n",
       "12     14            Menú de Hamburguesa     6.0\n",
       "13     15                         Helado     1.0\n",
       "14     16                          Tarta     2.0\n",
       "15     18                           Agua     2.0\n",
       "16     19                          Fanta     3.0"
      ]
     },
     "execution_count": 58,
     "metadata": {},
     "output_type": "execute_result"
    }
   ],
   "source": [
    "df18=pd.read_sql(query18_1, con=connection)\n",
    "df18"
   ]
  },
  {
   "attachments": {},
   "cell_type": "markdown",
   "metadata": {},
   "source": [
    "### Insertar los siguientes datos en la tabla PEDIDO teniendo en cuenta que debes insertar sólo los valores."
   ]
  },
  {
   "cell_type": "code",
   "execution_count": 59,
   "metadata": {},
   "outputs": [],
   "source": [
    "query19_1 = \"\"\"\n",
    "INSERT INTO PEDIDO (Numero, Fecha, Importe, DNI_ETM, DNI_EP, DNI_R, Hora_tm, Hora_pre, Hora_rep)\n",
    "VALUES ('0014', '2021-01-15', '13', '99999999X', '55555555J', '04477744T', '21:20:00', '21:30:00', '21:51:00');\n",
    "\"\"\"\n",
    "\n",
    "query19_2 = \"\"\"\n",
    "INSERT INTO PEDIDO (Numero, Fecha, Importe, DNI_ETM, DNI_EP, Hora_tm, Hora_pre)\n",
    "VALUES ('0012', '2020-11-16', '20', '03232323P', '04444444T', '18:00:00', '18:03:00');\n",
    "\"\"\"\n",
    "\n",
    "query19_3 = \"\"\"\n",
    "INSERT INTO PEDIDO (Numero, Fecha, Importe, DNI_ETM, Hora_tm)\n",
    "VALUES ('0013', '2021-01-01', '67', '55555555J', '14:00:00');\n",
    "\"\"\"\n",
    "\n",
    "cursor.execute(query19_1)\n",
    "cursor.execute(query19_2)\n",
    "cursor.execute(query19_3)\n",
    "connection.commit()\n"
   ]
  },
  {
   "cell_type": "code",
   "execution_count": 60,
   "metadata": {},
   "outputs": [
    {
     "data": {
      "text/plain": [
       "[('0012',\n",
       "  datetime.date(2020, 11, 16),\n",
       "  20.0,\n",
       "  '03232323P',\n",
       "  '04444444T',\n",
       "  None,\n",
       "  datetime.timedelta(seconds=64800),\n",
       "  datetime.timedelta(seconds=64980),\n",
       "  None),\n",
       " ('0013',\n",
       "  datetime.date(2021, 1, 1),\n",
       "  67.0,\n",
       "  '55555555J',\n",
       "  None,\n",
       "  None,\n",
       "  datetime.timedelta(seconds=50400),\n",
       "  None,\n",
       "  None),\n",
       " ('0014',\n",
       "  datetime.date(2021, 1, 15),\n",
       "  13.0,\n",
       "  '99999999X',\n",
       "  '55555555J',\n",
       "  '04477744T',\n",
       "  datetime.timedelta(seconds=76800),\n",
       "  datetime.timedelta(seconds=77400),\n",
       "  datetime.timedelta(seconds=78660))]"
      ]
     },
     "execution_count": 60,
     "metadata": {},
     "output_type": "execute_result"
    }
   ],
   "source": [
    "query19_4=\"\"\" \n",
    "SELECT *\n",
    "FROM \n",
    "\tPEDIDO\n",
    "WHERE\n",
    "\tNumero in ('0012','0013','0014');\n",
    "\"\"\"\n",
    "cursor.execute(query19_4)\n",
    "cursor.fetchall()"
   ]
  },
  {
   "cell_type": "code",
   "execution_count": 61,
   "metadata": {},
   "outputs": [
    {
     "name": "stderr",
     "output_type": "stream",
     "text": [
      "C:\\Users\\Russhi\\AppData\\Local\\Temp\\ipykernel_23248\\205878715.py:1: UserWarning: pandas only supports SQLAlchemy connectable (engine/connection) or database string URI or sqlite3 DBAPI2 connection. Other DBAPI2 objects are not tested. Please consider using SQLAlchemy.\n",
      "  df19=pd.read_sql(query19_4, con=connection)\n"
     ]
    },
    {
     "data": {
      "text/html": [
       "<div>\n",
       "<style scoped>\n",
       "    .dataframe tbody tr th:only-of-type {\n",
       "        vertical-align: middle;\n",
       "    }\n",
       "\n",
       "    .dataframe tbody tr th {\n",
       "        vertical-align: top;\n",
       "    }\n",
       "\n",
       "    .dataframe thead th {\n",
       "        text-align: right;\n",
       "    }\n",
       "</style>\n",
       "<table border=\"1\" class=\"dataframe\">\n",
       "  <thead>\n",
       "    <tr style=\"text-align: right;\">\n",
       "      <th></th>\n",
       "      <th>Numero</th>\n",
       "      <th>Fecha</th>\n",
       "      <th>Importe</th>\n",
       "      <th>DNI_ETM</th>\n",
       "      <th>DNI_EP</th>\n",
       "      <th>DNI_R</th>\n",
       "      <th>Hora_tm</th>\n",
       "      <th>Hora_pre</th>\n",
       "      <th>Hora_rep</th>\n",
       "    </tr>\n",
       "  </thead>\n",
       "  <tbody>\n",
       "    <tr>\n",
       "      <th>0</th>\n",
       "      <td>0012</td>\n",
       "      <td>2020-11-16</td>\n",
       "      <td>20.0</td>\n",
       "      <td>03232323P</td>\n",
       "      <td>04444444T</td>\n",
       "      <td>None</td>\n",
       "      <td>0 days 18:00:00</td>\n",
       "      <td>0 days 18:03:00</td>\n",
       "      <td>NaT</td>\n",
       "    </tr>\n",
       "    <tr>\n",
       "      <th>1</th>\n",
       "      <td>0013</td>\n",
       "      <td>2021-01-01</td>\n",
       "      <td>67.0</td>\n",
       "      <td>55555555J</td>\n",
       "      <td>None</td>\n",
       "      <td>None</td>\n",
       "      <td>0 days 14:00:00</td>\n",
       "      <td>NaT</td>\n",
       "      <td>NaT</td>\n",
       "    </tr>\n",
       "    <tr>\n",
       "      <th>2</th>\n",
       "      <td>0014</td>\n",
       "      <td>2021-01-15</td>\n",
       "      <td>13.0</td>\n",
       "      <td>99999999X</td>\n",
       "      <td>55555555J</td>\n",
       "      <td>04477744T</td>\n",
       "      <td>0 days 21:20:00</td>\n",
       "      <td>0 days 21:30:00</td>\n",
       "      <td>0 days 21:51:00</td>\n",
       "    </tr>\n",
       "  </tbody>\n",
       "</table>\n",
       "</div>"
      ],
      "text/plain": [
       "  Numero       Fecha  Importe    DNI_ETM     DNI_EP      DNI_R  \\\n",
       "0   0012  2020-11-16     20.0  03232323P  04444444T       None   \n",
       "1   0013  2021-01-01     67.0  55555555J       None       None   \n",
       "2   0014  2021-01-15     13.0  99999999X  55555555J  04477744T   \n",
       "\n",
       "          Hora_tm        Hora_pre        Hora_rep  \n",
       "0 0 days 18:00:00 0 days 18:03:00             NaT  \n",
       "1 0 days 14:00:00             NaT             NaT  \n",
       "2 0 days 21:20:00 0 days 21:30:00 0 days 21:51:00  "
      ]
     },
     "execution_count": 61,
     "metadata": {},
     "output_type": "execute_result"
    }
   ],
   "source": [
    "df19=pd.read_sql(query19_4, con=connection)\n",
    "df19"
   ]
  },
  {
   "attachments": {},
   "cell_type": "markdown",
   "metadata": {},
   "source": [
    "### Incrementar un 10% el importe de todos los pedidos que se han realizado en el mes de Noviembre de 2020.(Debes hacerlo con una única sentencia)."
   ]
  },
  {
   "cell_type": "code",
   "execution_count": 62,
   "metadata": {},
   "outputs": [],
   "source": [
    "query20=\"\"\" \n",
    "UPDATE \n",
    "\tPEDIDO\n",
    "SET \n",
    "\tImporte = Importe * 1.1\n",
    "WHERE \n",
    "\tFecha like '2020-11-%'; \n",
    "\"\"\"\n",
    "cursor.execute(query20)\n",
    "connection.commit()"
   ]
  },
  {
   "cell_type": "code",
   "execution_count": 63,
   "metadata": {},
   "outputs": [
    {
     "data": {
      "text/plain": [
       "[('0002',\n",
       "  datetime.date(2020, 11, 11),\n",
       "  16.5,\n",
       "  '22222222S',\n",
       "  '77777777M',\n",
       "  '99009900J',\n",
       "  datetime.timedelta(seconds=48600),\n",
       "  datetime.timedelta(seconds=49500),\n",
       "  datetime.timedelta(seconds=50700)),\n",
       " ('0004',\n",
       "  datetime.date(2020, 11, 10),\n",
       "  14.3,\n",
       "  '99999999X',\n",
       "  '77777777M',\n",
       "  '04477744T',\n",
       "  datetime.timedelta(seconds=50520),\n",
       "  datetime.timedelta(seconds=52200),\n",
       "  datetime.timedelta(seconds=53100)),\n",
       " ('0006',\n",
       "  datetime.date(2020, 11, 15),\n",
       "  25.3,\n",
       "  '14567555L',\n",
       "  '88888888O',\n",
       "  '04477744T',\n",
       "  datetime.timedelta(seconds=75720),\n",
       "  datetime.timedelta(seconds=77700),\n",
       "  datetime.timedelta(seconds=78300)),\n",
       " ('0009',\n",
       "  datetime.date(2020, 11, 23),\n",
       "  27.5,\n",
       "  '04444444T',\n",
       "  '55555555J',\n",
       "  '99009900J',\n",
       "  datetime.timedelta(seconds=39720),\n",
       "  datetime.timedelta(seconds=41400),\n",
       "  datetime.timedelta(seconds=42900)),\n",
       " ('0010',\n",
       "  datetime.date(2020, 11, 5),\n",
       "  49.5,\n",
       "  '88888888O',\n",
       "  '14567555L',\n",
       "  '11245621Q',\n",
       "  datetime.timedelta(seconds=79500),\n",
       "  datetime.timedelta(seconds=79920),\n",
       "  datetime.timedelta(seconds=80445)),\n",
       " ('0011',\n",
       "  datetime.date(2020, 11, 5),\n",
       "  49.5,\n",
       "  '88888888O',\n",
       "  '14567555L',\n",
       "  None,\n",
       "  datetime.timedelta(seconds=79500),\n",
       "  None,\n",
       "  None),\n",
       " ('0012',\n",
       "  datetime.date(2020, 11, 16),\n",
       "  22.0,\n",
       "  '03232323P',\n",
       "  '04444444T',\n",
       "  None,\n",
       "  datetime.timedelta(seconds=64800),\n",
       "  datetime.timedelta(seconds=64980),\n",
       "  None)]"
      ]
     },
     "execution_count": 63,
     "metadata": {},
     "output_type": "execute_result"
    }
   ],
   "source": [
    "query20_1=\"\"\" \n",
    "SELECT *\n",
    "FROM \n",
    "\tPEDIDO\n",
    "WHERE\n",
    "\tFecha like '2020-11-%';\n",
    "\"\"\"\n",
    "cursor.execute(query20_1)\n",
    "cursor.fetchall()"
   ]
  },
  {
   "cell_type": "code",
   "execution_count": 64,
   "metadata": {},
   "outputs": [
    {
     "name": "stderr",
     "output_type": "stream",
     "text": [
      "C:\\Users\\Russhi\\AppData\\Local\\Temp\\ipykernel_23248\\3557362551.py:1: UserWarning: pandas only supports SQLAlchemy connectable (engine/connection) or database string URI or sqlite3 DBAPI2 connection. Other DBAPI2 objects are not tested. Please consider using SQLAlchemy.\n",
      "  df20=pd.read_sql(query20_1, con=connection)\n"
     ]
    },
    {
     "data": {
      "text/html": [
       "<div>\n",
       "<style scoped>\n",
       "    .dataframe tbody tr th:only-of-type {\n",
       "        vertical-align: middle;\n",
       "    }\n",
       "\n",
       "    .dataframe tbody tr th {\n",
       "        vertical-align: top;\n",
       "    }\n",
       "\n",
       "    .dataframe thead th {\n",
       "        text-align: right;\n",
       "    }\n",
       "</style>\n",
       "<table border=\"1\" class=\"dataframe\">\n",
       "  <thead>\n",
       "    <tr style=\"text-align: right;\">\n",
       "      <th></th>\n",
       "      <th>Numero</th>\n",
       "      <th>Fecha</th>\n",
       "      <th>Importe</th>\n",
       "      <th>DNI_ETM</th>\n",
       "      <th>DNI_EP</th>\n",
       "      <th>DNI_R</th>\n",
       "      <th>Hora_tm</th>\n",
       "      <th>Hora_pre</th>\n",
       "      <th>Hora_rep</th>\n",
       "    </tr>\n",
       "  </thead>\n",
       "  <tbody>\n",
       "    <tr>\n",
       "      <th>0</th>\n",
       "      <td>0002</td>\n",
       "      <td>2020-11-11</td>\n",
       "      <td>16.5</td>\n",
       "      <td>22222222S</td>\n",
       "      <td>77777777M</td>\n",
       "      <td>99009900J</td>\n",
       "      <td>0 days 13:30:00</td>\n",
       "      <td>0 days 13:45:00</td>\n",
       "      <td>0 days 14:05:00</td>\n",
       "    </tr>\n",
       "    <tr>\n",
       "      <th>1</th>\n",
       "      <td>0004</td>\n",
       "      <td>2020-11-10</td>\n",
       "      <td>14.3</td>\n",
       "      <td>99999999X</td>\n",
       "      <td>77777777M</td>\n",
       "      <td>04477744T</td>\n",
       "      <td>0 days 14:02:00</td>\n",
       "      <td>0 days 14:30:00</td>\n",
       "      <td>0 days 14:45:00</td>\n",
       "    </tr>\n",
       "    <tr>\n",
       "      <th>2</th>\n",
       "      <td>0006</td>\n",
       "      <td>2020-11-15</td>\n",
       "      <td>25.3</td>\n",
       "      <td>14567555L</td>\n",
       "      <td>88888888O</td>\n",
       "      <td>04477744T</td>\n",
       "      <td>0 days 21:02:00</td>\n",
       "      <td>0 days 21:35:00</td>\n",
       "      <td>0 days 21:45:00</td>\n",
       "    </tr>\n",
       "    <tr>\n",
       "      <th>3</th>\n",
       "      <td>0009</td>\n",
       "      <td>2020-11-23</td>\n",
       "      <td>27.5</td>\n",
       "      <td>04444444T</td>\n",
       "      <td>55555555J</td>\n",
       "      <td>99009900J</td>\n",
       "      <td>0 days 11:02:00</td>\n",
       "      <td>0 days 11:30:00</td>\n",
       "      <td>0 days 11:55:00</td>\n",
       "    </tr>\n",
       "    <tr>\n",
       "      <th>4</th>\n",
       "      <td>0010</td>\n",
       "      <td>2020-11-05</td>\n",
       "      <td>49.5</td>\n",
       "      <td>88888888O</td>\n",
       "      <td>14567555L</td>\n",
       "      <td>11245621Q</td>\n",
       "      <td>0 days 22:05:00</td>\n",
       "      <td>0 days 22:12:00</td>\n",
       "      <td>0 days 22:20:45</td>\n",
       "    </tr>\n",
       "    <tr>\n",
       "      <th>5</th>\n",
       "      <td>0011</td>\n",
       "      <td>2020-11-05</td>\n",
       "      <td>49.5</td>\n",
       "      <td>88888888O</td>\n",
       "      <td>14567555L</td>\n",
       "      <td>None</td>\n",
       "      <td>0 days 22:05:00</td>\n",
       "      <td>NaT</td>\n",
       "      <td>NaT</td>\n",
       "    </tr>\n",
       "    <tr>\n",
       "      <th>6</th>\n",
       "      <td>0012</td>\n",
       "      <td>2020-11-16</td>\n",
       "      <td>22.0</td>\n",
       "      <td>03232323P</td>\n",
       "      <td>04444444T</td>\n",
       "      <td>None</td>\n",
       "      <td>0 days 18:00:00</td>\n",
       "      <td>0 days 18:03:00</td>\n",
       "      <td>NaT</td>\n",
       "    </tr>\n",
       "  </tbody>\n",
       "</table>\n",
       "</div>"
      ],
      "text/plain": [
       "  Numero       Fecha  Importe    DNI_ETM     DNI_EP      DNI_R  \\\n",
       "0   0002  2020-11-11     16.5  22222222S  77777777M  99009900J   \n",
       "1   0004  2020-11-10     14.3  99999999X  77777777M  04477744T   \n",
       "2   0006  2020-11-15     25.3  14567555L  88888888O  04477744T   \n",
       "3   0009  2020-11-23     27.5  04444444T  55555555J  99009900J   \n",
       "4   0010  2020-11-05     49.5  88888888O  14567555L  11245621Q   \n",
       "5   0011  2020-11-05     49.5  88888888O  14567555L       None   \n",
       "6   0012  2020-11-16     22.0  03232323P  04444444T       None   \n",
       "\n",
       "          Hora_tm        Hora_pre        Hora_rep  \n",
       "0 0 days 13:30:00 0 days 13:45:00 0 days 14:05:00  \n",
       "1 0 days 14:02:00 0 days 14:30:00 0 days 14:45:00  \n",
       "2 0 days 21:02:00 0 days 21:35:00 0 days 21:45:00  \n",
       "3 0 days 11:02:00 0 days 11:30:00 0 days 11:55:00  \n",
       "4 0 days 22:05:00 0 days 22:12:00 0 days 22:20:45  \n",
       "5 0 days 22:05:00             NaT             NaT  \n",
       "6 0 days 18:00:00 0 days 18:03:00             NaT  "
      ]
     },
     "execution_count": 64,
     "metadata": {},
     "output_type": "execute_result"
    }
   ],
   "source": [
    "df20=pd.read_sql(query20_1, con=connection)\n",
    "df20"
   ]
  },
  {
   "attachments": {},
   "cell_type": "markdown",
   "metadata": {},
   "source": [
    "### Eliminar los pedidos cuyo tiempo de reparto ha sido de 25 minutos o más (desde que éstos estaban preparados) y además estaban asignados al repartidor de nombre Alejandro Pardo López. (Debes hacerlo con una única sentencia)."
   ]
  },
  {
   "cell_type": "code",
   "execution_count": 65,
   "metadata": {},
   "outputs": [],
   "source": [
    "query21=\"\"\" \n",
    "DELETE FROM \n",
    "\tPEDIDO\n",
    "WHERE DNI_R IN (\n",
    "    SELECT DNI\n",
    "    FROM REPARTIDOR\n",
    "    WHERE Nombre = 'Alejandro Pardo López'\n",
    ")\n",
    "AND ( TIMESTAMPDIFF(MINUTE, Hora_pre, Hora_rep)>=25);\n",
    "\"\"\"\n",
    "cursor.execute(query21)\n",
    "connection.commit()"
   ]
  },
  {
   "cell_type": "code",
   "execution_count": 66,
   "metadata": {},
   "outputs": [
    {
     "data": {
      "text/plain": [
       "[('0001',\n",
       "  datetime.date(2020, 10, 15),\n",
       "  10.0,\n",
       "  '11111111Q',\n",
       "  '04444444T',\n",
       "  '55675675J',\n",
       "  datetime.timedelta(seconds=43200),\n",
       "  datetime.timedelta(seconds=44100),\n",
       "  datetime.timedelta(seconds=45900)),\n",
       " ('0002',\n",
       "  datetime.date(2020, 11, 11),\n",
       "  16.5,\n",
       "  '22222222S',\n",
       "  '77777777M',\n",
       "  '99009900J',\n",
       "  datetime.timedelta(seconds=48600),\n",
       "  datetime.timedelta(seconds=49500),\n",
       "  datetime.timedelta(seconds=50700)),\n",
       " ('0004',\n",
       "  datetime.date(2020, 11, 10),\n",
       "  14.3,\n",
       "  '99999999X',\n",
       "  '77777777M',\n",
       "  '04477744T',\n",
       "  datetime.timedelta(seconds=50520),\n",
       "  datetime.timedelta(seconds=52200),\n",
       "  datetime.timedelta(seconds=53100)),\n",
       " ('0005',\n",
       "  datetime.date(2020, 9, 5),\n",
       "  14.0,\n",
       "  '14567555L',\n",
       "  '03232323P',\n",
       "  '14188151T',\n",
       "  datetime.timedelta(seconds=68520),\n",
       "  datetime.timedelta(seconds=70200),\n",
       "  datetime.timedelta(seconds=71100)),\n",
       " ('0006',\n",
       "  datetime.date(2020, 11, 15),\n",
       "  25.3,\n",
       "  '14567555L',\n",
       "  '88888888O',\n",
       "  '04477744T',\n",
       "  datetime.timedelta(seconds=75720),\n",
       "  datetime.timedelta(seconds=77700),\n",
       "  datetime.timedelta(seconds=78300)),\n",
       " ('0007',\n",
       "  datetime.date(2020, 9, 25),\n",
       "  17.0,\n",
       "  '03232323P',\n",
       "  '88888888O',\n",
       "  '14188151T',\n",
       "  datetime.timedelta(seconds=83100),\n",
       "  datetime.timedelta(seconds=83520),\n",
       "  datetime.timedelta(seconds=84900)),\n",
       " ('0008',\n",
       "  datetime.date(2020, 9, 15),\n",
       "  14.0,\n",
       "  '99999999X',\n",
       "  '33333333M',\n",
       "  '11245621Q',\n",
       "  datetime.timedelta(seconds=64920),\n",
       "  datetime.timedelta(seconds=66600),\n",
       "  datetime.timedelta(seconds=67500)),\n",
       " ('0010',\n",
       "  datetime.date(2020, 11, 5),\n",
       "  49.5,\n",
       "  '88888888O',\n",
       "  '14567555L',\n",
       "  '11245621Q',\n",
       "  datetime.timedelta(seconds=79500),\n",
       "  datetime.timedelta(seconds=79920),\n",
       "  datetime.timedelta(seconds=80445)),\n",
       " ('0011',\n",
       "  datetime.date(2020, 11, 5),\n",
       "  49.5,\n",
       "  '88888888O',\n",
       "  '14567555L',\n",
       "  None,\n",
       "  datetime.timedelta(seconds=79500),\n",
       "  None,\n",
       "  None),\n",
       " ('0012',\n",
       "  datetime.date(2020, 11, 16),\n",
       "  22.0,\n",
       "  '03232323P',\n",
       "  '04444444T',\n",
       "  None,\n",
       "  datetime.timedelta(seconds=64800),\n",
       "  datetime.timedelta(seconds=64980),\n",
       "  None),\n",
       " ('0013',\n",
       "  datetime.date(2021, 1, 1),\n",
       "  67.0,\n",
       "  '55555555J',\n",
       "  None,\n",
       "  None,\n",
       "  datetime.timedelta(seconds=50400),\n",
       "  None,\n",
       "  None),\n",
       " ('0014',\n",
       "  datetime.date(2021, 1, 15),\n",
       "  13.0,\n",
       "  '99999999X',\n",
       "  '55555555J',\n",
       "  '04477744T',\n",
       "  datetime.timedelta(seconds=76800),\n",
       "  datetime.timedelta(seconds=77400),\n",
       "  datetime.timedelta(seconds=78660))]"
      ]
     },
     "execution_count": 66,
     "metadata": {},
     "output_type": "execute_result"
    }
   ],
   "source": [
    "query21_1=\"\"\" \n",
    "SELECT *\n",
    "FROM \n",
    "\tPEDIDO\n",
    "\"\"\"\n",
    "cursor.execute(query21_1)\n",
    "cursor.fetchall()"
   ]
  },
  {
   "cell_type": "code",
   "execution_count": 67,
   "metadata": {},
   "outputs": [
    {
     "name": "stderr",
     "output_type": "stream",
     "text": [
      "C:\\Users\\Russhi\\AppData\\Local\\Temp\\ipykernel_23248\\1616728349.py:1: UserWarning: pandas only supports SQLAlchemy connectable (engine/connection) or database string URI or sqlite3 DBAPI2 connection. Other DBAPI2 objects are not tested. Please consider using SQLAlchemy.\n",
      "  df21=pd.read_sql(query21_1, con=connection)\n"
     ]
    },
    {
     "data": {
      "text/html": [
       "<div>\n",
       "<style scoped>\n",
       "    .dataframe tbody tr th:only-of-type {\n",
       "        vertical-align: middle;\n",
       "    }\n",
       "\n",
       "    .dataframe tbody tr th {\n",
       "        vertical-align: top;\n",
       "    }\n",
       "\n",
       "    .dataframe thead th {\n",
       "        text-align: right;\n",
       "    }\n",
       "</style>\n",
       "<table border=\"1\" class=\"dataframe\">\n",
       "  <thead>\n",
       "    <tr style=\"text-align: right;\">\n",
       "      <th></th>\n",
       "      <th>Numero</th>\n",
       "      <th>Fecha</th>\n",
       "      <th>Importe</th>\n",
       "      <th>DNI_ETM</th>\n",
       "      <th>DNI_EP</th>\n",
       "      <th>DNI_R</th>\n",
       "      <th>Hora_tm</th>\n",
       "      <th>Hora_pre</th>\n",
       "      <th>Hora_rep</th>\n",
       "    </tr>\n",
       "  </thead>\n",
       "  <tbody>\n",
       "    <tr>\n",
       "      <th>0</th>\n",
       "      <td>0001</td>\n",
       "      <td>2020-10-15</td>\n",
       "      <td>10.0</td>\n",
       "      <td>11111111Q</td>\n",
       "      <td>04444444T</td>\n",
       "      <td>55675675J</td>\n",
       "      <td>0 days 12:00:00</td>\n",
       "      <td>0 days 12:15:00</td>\n",
       "      <td>0 days 12:45:00</td>\n",
       "    </tr>\n",
       "    <tr>\n",
       "      <th>1</th>\n",
       "      <td>0002</td>\n",
       "      <td>2020-11-11</td>\n",
       "      <td>16.5</td>\n",
       "      <td>22222222S</td>\n",
       "      <td>77777777M</td>\n",
       "      <td>99009900J</td>\n",
       "      <td>0 days 13:30:00</td>\n",
       "      <td>0 days 13:45:00</td>\n",
       "      <td>0 days 14:05:00</td>\n",
       "    </tr>\n",
       "    <tr>\n",
       "      <th>2</th>\n",
       "      <td>0004</td>\n",
       "      <td>2020-11-10</td>\n",
       "      <td>14.3</td>\n",
       "      <td>99999999X</td>\n",
       "      <td>77777777M</td>\n",
       "      <td>04477744T</td>\n",
       "      <td>0 days 14:02:00</td>\n",
       "      <td>0 days 14:30:00</td>\n",
       "      <td>0 days 14:45:00</td>\n",
       "    </tr>\n",
       "    <tr>\n",
       "      <th>3</th>\n",
       "      <td>0005</td>\n",
       "      <td>2020-09-05</td>\n",
       "      <td>14.0</td>\n",
       "      <td>14567555L</td>\n",
       "      <td>03232323P</td>\n",
       "      <td>14188151T</td>\n",
       "      <td>0 days 19:02:00</td>\n",
       "      <td>0 days 19:30:00</td>\n",
       "      <td>0 days 19:45:00</td>\n",
       "    </tr>\n",
       "    <tr>\n",
       "      <th>4</th>\n",
       "      <td>0006</td>\n",
       "      <td>2020-11-15</td>\n",
       "      <td>25.3</td>\n",
       "      <td>14567555L</td>\n",
       "      <td>88888888O</td>\n",
       "      <td>04477744T</td>\n",
       "      <td>0 days 21:02:00</td>\n",
       "      <td>0 days 21:35:00</td>\n",
       "      <td>0 days 21:45:00</td>\n",
       "    </tr>\n",
       "    <tr>\n",
       "      <th>5</th>\n",
       "      <td>0007</td>\n",
       "      <td>2020-09-25</td>\n",
       "      <td>17.0</td>\n",
       "      <td>03232323P</td>\n",
       "      <td>88888888O</td>\n",
       "      <td>14188151T</td>\n",
       "      <td>0 days 23:05:00</td>\n",
       "      <td>0 days 23:12:00</td>\n",
       "      <td>0 days 23:35:00</td>\n",
       "    </tr>\n",
       "    <tr>\n",
       "      <th>6</th>\n",
       "      <td>0008</td>\n",
       "      <td>2020-09-15</td>\n",
       "      <td>14.0</td>\n",
       "      <td>99999999X</td>\n",
       "      <td>33333333M</td>\n",
       "      <td>11245621Q</td>\n",
       "      <td>0 days 18:02:00</td>\n",
       "      <td>0 days 18:30:00</td>\n",
       "      <td>0 days 18:45:00</td>\n",
       "    </tr>\n",
       "    <tr>\n",
       "      <th>7</th>\n",
       "      <td>0010</td>\n",
       "      <td>2020-11-05</td>\n",
       "      <td>49.5</td>\n",
       "      <td>88888888O</td>\n",
       "      <td>14567555L</td>\n",
       "      <td>11245621Q</td>\n",
       "      <td>0 days 22:05:00</td>\n",
       "      <td>0 days 22:12:00</td>\n",
       "      <td>0 days 22:20:45</td>\n",
       "    </tr>\n",
       "    <tr>\n",
       "      <th>8</th>\n",
       "      <td>0011</td>\n",
       "      <td>2020-11-05</td>\n",
       "      <td>49.5</td>\n",
       "      <td>88888888O</td>\n",
       "      <td>14567555L</td>\n",
       "      <td>None</td>\n",
       "      <td>0 days 22:05:00</td>\n",
       "      <td>NaT</td>\n",
       "      <td>NaT</td>\n",
       "    </tr>\n",
       "    <tr>\n",
       "      <th>9</th>\n",
       "      <td>0012</td>\n",
       "      <td>2020-11-16</td>\n",
       "      <td>22.0</td>\n",
       "      <td>03232323P</td>\n",
       "      <td>04444444T</td>\n",
       "      <td>None</td>\n",
       "      <td>0 days 18:00:00</td>\n",
       "      <td>0 days 18:03:00</td>\n",
       "      <td>NaT</td>\n",
       "    </tr>\n",
       "    <tr>\n",
       "      <th>10</th>\n",
       "      <td>0013</td>\n",
       "      <td>2021-01-01</td>\n",
       "      <td>67.0</td>\n",
       "      <td>55555555J</td>\n",
       "      <td>None</td>\n",
       "      <td>None</td>\n",
       "      <td>0 days 14:00:00</td>\n",
       "      <td>NaT</td>\n",
       "      <td>NaT</td>\n",
       "    </tr>\n",
       "    <tr>\n",
       "      <th>11</th>\n",
       "      <td>0014</td>\n",
       "      <td>2021-01-15</td>\n",
       "      <td>13.0</td>\n",
       "      <td>99999999X</td>\n",
       "      <td>55555555J</td>\n",
       "      <td>04477744T</td>\n",
       "      <td>0 days 21:20:00</td>\n",
       "      <td>0 days 21:30:00</td>\n",
       "      <td>0 days 21:51:00</td>\n",
       "    </tr>\n",
       "  </tbody>\n",
       "</table>\n",
       "</div>"
      ],
      "text/plain": [
       "   Numero       Fecha  Importe    DNI_ETM     DNI_EP      DNI_R  \\\n",
       "0    0001  2020-10-15     10.0  11111111Q  04444444T  55675675J   \n",
       "1    0002  2020-11-11     16.5  22222222S  77777777M  99009900J   \n",
       "2    0004  2020-11-10     14.3  99999999X  77777777M  04477744T   \n",
       "3    0005  2020-09-05     14.0  14567555L  03232323P  14188151T   \n",
       "4    0006  2020-11-15     25.3  14567555L  88888888O  04477744T   \n",
       "5    0007  2020-09-25     17.0  03232323P  88888888O  14188151T   \n",
       "6    0008  2020-09-15     14.0  99999999X  33333333M  11245621Q   \n",
       "7    0010  2020-11-05     49.5  88888888O  14567555L  11245621Q   \n",
       "8    0011  2020-11-05     49.5  88888888O  14567555L       None   \n",
       "9    0012  2020-11-16     22.0  03232323P  04444444T       None   \n",
       "10   0013  2021-01-01     67.0  55555555J       None       None   \n",
       "11   0014  2021-01-15     13.0  99999999X  55555555J  04477744T   \n",
       "\n",
       "           Hora_tm        Hora_pre        Hora_rep  \n",
       "0  0 days 12:00:00 0 days 12:15:00 0 days 12:45:00  \n",
       "1  0 days 13:30:00 0 days 13:45:00 0 days 14:05:00  \n",
       "2  0 days 14:02:00 0 days 14:30:00 0 days 14:45:00  \n",
       "3  0 days 19:02:00 0 days 19:30:00 0 days 19:45:00  \n",
       "4  0 days 21:02:00 0 days 21:35:00 0 days 21:45:00  \n",
       "5  0 days 23:05:00 0 days 23:12:00 0 days 23:35:00  \n",
       "6  0 days 18:02:00 0 days 18:30:00 0 days 18:45:00  \n",
       "7  0 days 22:05:00 0 days 22:12:00 0 days 22:20:45  \n",
       "8  0 days 22:05:00             NaT             NaT  \n",
       "9  0 days 18:00:00 0 days 18:03:00             NaT  \n",
       "10 0 days 14:00:00             NaT             NaT  \n",
       "11 0 days 21:20:00 0 days 21:30:00 0 days 21:51:00  "
      ]
     },
     "execution_count": 67,
     "metadata": {},
     "output_type": "execute_result"
    }
   ],
   "source": [
    "df21=pd.read_sql(query21_1, con=connection)\n",
    "df21"
   ]
  },
  {
   "attachments": {},
   "cell_type": "markdown",
   "metadata": {},
   "source": [
    "### Aumentar el incentivo de los repartidores en 50 euros, a todos aquellos que han repartido dos o más pedidos. (Debes hacerlo con una única sentencia)."
   ]
  },
  {
   "cell_type": "code",
   "execution_count": 68,
   "metadata": {},
   "outputs": [],
   "source": [
    "query22=\"\"\" \n",
    "UPDATE \n",
    "\tREPARTIDOR\n",
    "SET \n",
    "\tIncentivo = Incentivo + 50\n",
    "WHERE DNI IN (\n",
    "    SELECT DNI_R\n",
    "    FROM PEDIDO\n",
    "    GROUP BY DNI_R\n",
    "    HAVING COUNT(*) >= 2\n",
    ");\n",
    "\"\"\"\n",
    "cursor.execute(query22)\n",
    "connection.commit()"
   ]
  },
  {
   "cell_type": "code",
   "execution_count": 69,
   "metadata": {},
   "outputs": [
    {
     "data": {
      "text/plain": [
       "[('04477744T', 'Laura Jiménez Jiménez', 'noche', 450.0),\n",
       " ('11245621Q', 'Juan Pardo Rubio', 'noche', 450.0),\n",
       " ('14188151T', 'Carlos Sánchez Ruíz', 'tarde', 350.0),\n",
       " ('51235555J', 'Carmen Capel Pío', 'tarde', 300.0),\n",
       " ('55675675J', 'Juan Sánchez López', 'mañana', 200.0),\n",
       " ('99009900J', 'Alejandro Pardo López', 'mañana', 400.0)]"
      ]
     },
     "execution_count": 69,
     "metadata": {},
     "output_type": "execute_result"
    }
   ],
   "source": [
    "query22_1=\"\"\" \n",
    "SELECT *\n",
    "FROM \n",
    "\tREPARTIDOR\n",
    "\"\"\"\n",
    "cursor.execute(query22_1)\n",
    "cursor.fetchall()"
   ]
  },
  {
   "cell_type": "code",
   "execution_count": 70,
   "metadata": {},
   "outputs": [
    {
     "name": "stderr",
     "output_type": "stream",
     "text": [
      "C:\\Users\\Russhi\\AppData\\Local\\Temp\\ipykernel_23248\\1293257701.py:1: UserWarning: pandas only supports SQLAlchemy connectable (engine/connection) or database string URI or sqlite3 DBAPI2 connection. Other DBAPI2 objects are not tested. Please consider using SQLAlchemy.\n",
      "  df22=pd.read_sql(query22_1, con=connection)\n"
     ]
    },
    {
     "data": {
      "text/html": [
       "<div>\n",
       "<style scoped>\n",
       "    .dataframe tbody tr th:only-of-type {\n",
       "        vertical-align: middle;\n",
       "    }\n",
       "\n",
       "    .dataframe tbody tr th {\n",
       "        vertical-align: top;\n",
       "    }\n",
       "\n",
       "    .dataframe thead th {\n",
       "        text-align: right;\n",
       "    }\n",
       "</style>\n",
       "<table border=\"1\" class=\"dataframe\">\n",
       "  <thead>\n",
       "    <tr style=\"text-align: right;\">\n",
       "      <th></th>\n",
       "      <th>DNI</th>\n",
       "      <th>Nombre</th>\n",
       "      <th>Turno</th>\n",
       "      <th>Incentivo</th>\n",
       "    </tr>\n",
       "  </thead>\n",
       "  <tbody>\n",
       "    <tr>\n",
       "      <th>0</th>\n",
       "      <td>04477744T</td>\n",
       "      <td>Laura Jiménez Jiménez</td>\n",
       "      <td>noche</td>\n",
       "      <td>450.0</td>\n",
       "    </tr>\n",
       "    <tr>\n",
       "      <th>1</th>\n",
       "      <td>11245621Q</td>\n",
       "      <td>Juan Pardo Rubio</td>\n",
       "      <td>noche</td>\n",
       "      <td>450.0</td>\n",
       "    </tr>\n",
       "    <tr>\n",
       "      <th>2</th>\n",
       "      <td>14188151T</td>\n",
       "      <td>Carlos Sánchez Ruíz</td>\n",
       "      <td>tarde</td>\n",
       "      <td>350.0</td>\n",
       "    </tr>\n",
       "    <tr>\n",
       "      <th>3</th>\n",
       "      <td>51235555J</td>\n",
       "      <td>Carmen Capel Pío</td>\n",
       "      <td>tarde</td>\n",
       "      <td>300.0</td>\n",
       "    </tr>\n",
       "    <tr>\n",
       "      <th>4</th>\n",
       "      <td>55675675J</td>\n",
       "      <td>Juan Sánchez López</td>\n",
       "      <td>mañana</td>\n",
       "      <td>200.0</td>\n",
       "    </tr>\n",
       "    <tr>\n",
       "      <th>5</th>\n",
       "      <td>99009900J</td>\n",
       "      <td>Alejandro Pardo López</td>\n",
       "      <td>mañana</td>\n",
       "      <td>400.0</td>\n",
       "    </tr>\n",
       "  </tbody>\n",
       "</table>\n",
       "</div>"
      ],
      "text/plain": [
       "         DNI                 Nombre   Turno  Incentivo\n",
       "0  04477744T  Laura Jiménez Jiménez   noche      450.0\n",
       "1  11245621Q       Juan Pardo Rubio   noche      450.0\n",
       "2  14188151T    Carlos Sánchez Ruíz   tarde      350.0\n",
       "3  51235555J       Carmen Capel Pío   tarde      300.0\n",
       "4  55675675J     Juan Sánchez López  mañana      200.0\n",
       "5  99009900J  Alejandro Pardo López  mañana      400.0"
      ]
     },
     "execution_count": 70,
     "metadata": {},
     "output_type": "execute_result"
    }
   ],
   "source": [
    "df22=pd.read_sql(query22_1, con=connection)\n",
    "df22"
   ]
  },
  {
   "attachments": {},
   "cell_type": "markdown",
   "metadata": {},
   "source": [
    "### Insertar todos los pedidos repartidos en la tabla PEDIDOS_FINALIZADOS incluyendo además de los campos propios de la tabla pedidos, el tiempo transcurrido desde que se toma nota hasta su reparto.(Debes hacerlo con una única sentencia)"
   ]
  },
  {
   "cell_type": "code",
   "execution_count": 71,
   "metadata": {},
   "outputs": [],
   "source": [
    "query23=\"\"\" \n",
    "INSERT INTO \n",
    "\tPEDIDOS_FINALIZADOS (Numero, Fecha, Importe, DNI_ETM, DNI_EP, DNI_R, Hora_tm, Hora_pre, Hora_rep, Tiempo_transcurrido)\n",
    "SELECT \n",
    "\tp.Numero, p.Fecha, p.Importe, p.DNI_ETM, p.DNI_EP, p.DNI_R, p.Hora_tm, p.Hora_pre, p.Hora_rep, TIMESTAMPDIFF(MINUTE, Hora_tm, Hora_rep) AS Tiempo_transcurrido\n",
    "FROM \n",
    "\tPEDIDO p\n",
    "WHERE \n",
    "\t(p.Hora_rep IS NOT NULL);\n",
    "\"\"\"\n",
    "cursor.execute(query23)\n",
    "connection.commit()"
   ]
  },
  {
   "cell_type": "code",
   "execution_count": 72,
   "metadata": {},
   "outputs": [
    {
     "data": {
      "text/plain": [
       "[('0001',\n",
       "  datetime.date(2020, 10, 15),\n",
       "  10.0,\n",
       "  '11111111Q',\n",
       "  '04444444T',\n",
       "  '55675675J',\n",
       "  datetime.timedelta(seconds=43200),\n",
       "  datetime.timedelta(seconds=44100),\n",
       "  datetime.timedelta(seconds=45900),\n",
       "  datetime.timedelta(seconds=45)),\n",
       " ('0002',\n",
       "  datetime.date(2020, 11, 11),\n",
       "  16.5,\n",
       "  '22222222S',\n",
       "  '77777777M',\n",
       "  '99009900J',\n",
       "  datetime.timedelta(seconds=48600),\n",
       "  datetime.timedelta(seconds=49500),\n",
       "  datetime.timedelta(seconds=50700),\n",
       "  datetime.timedelta(seconds=35)),\n",
       " ('0004',\n",
       "  datetime.date(2020, 11, 10),\n",
       "  14.3,\n",
       "  '99999999X',\n",
       "  '77777777M',\n",
       "  '04477744T',\n",
       "  datetime.timedelta(seconds=50520),\n",
       "  datetime.timedelta(seconds=52200),\n",
       "  datetime.timedelta(seconds=53100),\n",
       "  datetime.timedelta(seconds=43)),\n",
       " ('0005',\n",
       "  datetime.date(2020, 9, 5),\n",
       "  14.0,\n",
       "  '14567555L',\n",
       "  '03232323P',\n",
       "  '14188151T',\n",
       "  datetime.timedelta(seconds=68520),\n",
       "  datetime.timedelta(seconds=70200),\n",
       "  datetime.timedelta(seconds=71100),\n",
       "  datetime.timedelta(seconds=43)),\n",
       " ('0006',\n",
       "  datetime.date(2020, 11, 15),\n",
       "  25.3,\n",
       "  '14567555L',\n",
       "  '88888888O',\n",
       "  '04477744T',\n",
       "  datetime.timedelta(seconds=75720),\n",
       "  datetime.timedelta(seconds=77700),\n",
       "  datetime.timedelta(seconds=78300),\n",
       "  datetime.timedelta(seconds=43)),\n",
       " ('0007',\n",
       "  datetime.date(2020, 9, 25),\n",
       "  17.0,\n",
       "  '03232323P',\n",
       "  '88888888O',\n",
       "  '14188151T',\n",
       "  datetime.timedelta(seconds=83100),\n",
       "  datetime.timedelta(seconds=83520),\n",
       "  datetime.timedelta(seconds=84900),\n",
       "  datetime.timedelta(seconds=30)),\n",
       " ('0008',\n",
       "  datetime.date(2020, 9, 15),\n",
       "  14.0,\n",
       "  '99999999X',\n",
       "  '33333333M',\n",
       "  '11245621Q',\n",
       "  datetime.timedelta(seconds=64920),\n",
       "  datetime.timedelta(seconds=66600),\n",
       "  datetime.timedelta(seconds=67500),\n",
       "  datetime.timedelta(seconds=43)),\n",
       " ('0010',\n",
       "  datetime.date(2020, 11, 5),\n",
       "  49.5,\n",
       "  '88888888O',\n",
       "  '14567555L',\n",
       "  '11245621Q',\n",
       "  datetime.timedelta(seconds=79500),\n",
       "  datetime.timedelta(seconds=79920),\n",
       "  datetime.timedelta(seconds=80445),\n",
       "  datetime.timedelta(seconds=15)),\n",
       " ('0014',\n",
       "  datetime.date(2021, 1, 15),\n",
       "  13.0,\n",
       "  '99999999X',\n",
       "  '55555555J',\n",
       "  '04477744T',\n",
       "  datetime.timedelta(seconds=76800),\n",
       "  datetime.timedelta(seconds=77400),\n",
       "  datetime.timedelta(seconds=78660),\n",
       "  datetime.timedelta(seconds=31))]"
      ]
     },
     "execution_count": 72,
     "metadata": {},
     "output_type": "execute_result"
    }
   ],
   "source": [
    "query23_1=\"\"\" \n",
    "SELECT *\n",
    "FROM\n",
    "\tPEDIDOS_FINALIZADOS\n",
    "\"\"\"\n",
    "cursor.execute(query23_1)\n",
    "cursor.fetchall()"
   ]
  },
  {
   "cell_type": "code",
   "execution_count": 73,
   "metadata": {},
   "outputs": [
    {
     "name": "stderr",
     "output_type": "stream",
     "text": [
      "C:\\Users\\Russhi\\AppData\\Local\\Temp\\ipykernel_23248\\583897665.py:1: UserWarning: pandas only supports SQLAlchemy connectable (engine/connection) or database string URI or sqlite3 DBAPI2 connection. Other DBAPI2 objects are not tested. Please consider using SQLAlchemy.\n",
      "  df23=pd.read_sql(query23_1, con=connection)\n"
     ]
    },
    {
     "data": {
      "text/html": [
       "<div>\n",
       "<style scoped>\n",
       "    .dataframe tbody tr th:only-of-type {\n",
       "        vertical-align: middle;\n",
       "    }\n",
       "\n",
       "    .dataframe tbody tr th {\n",
       "        vertical-align: top;\n",
       "    }\n",
       "\n",
       "    .dataframe thead th {\n",
       "        text-align: right;\n",
       "    }\n",
       "</style>\n",
       "<table border=\"1\" class=\"dataframe\">\n",
       "  <thead>\n",
       "    <tr style=\"text-align: right;\">\n",
       "      <th></th>\n",
       "      <th>Numero</th>\n",
       "      <th>Fecha</th>\n",
       "      <th>Importe</th>\n",
       "      <th>DNI_ETM</th>\n",
       "      <th>DNI_EP</th>\n",
       "      <th>DNI_R</th>\n",
       "      <th>Hora_tm</th>\n",
       "      <th>Hora_pre</th>\n",
       "      <th>Hora_rep</th>\n",
       "      <th>Tiempo_transcurrido</th>\n",
       "    </tr>\n",
       "  </thead>\n",
       "  <tbody>\n",
       "    <tr>\n",
       "      <th>0</th>\n",
       "      <td>0001</td>\n",
       "      <td>2020-10-15</td>\n",
       "      <td>10.0</td>\n",
       "      <td>11111111Q</td>\n",
       "      <td>04444444T</td>\n",
       "      <td>55675675J</td>\n",
       "      <td>0 days 12:00:00</td>\n",
       "      <td>0 days 12:15:00</td>\n",
       "      <td>0 days 12:45:00</td>\n",
       "      <td>0 days 00:00:45</td>\n",
       "    </tr>\n",
       "    <tr>\n",
       "      <th>1</th>\n",
       "      <td>0002</td>\n",
       "      <td>2020-11-11</td>\n",
       "      <td>16.5</td>\n",
       "      <td>22222222S</td>\n",
       "      <td>77777777M</td>\n",
       "      <td>99009900J</td>\n",
       "      <td>0 days 13:30:00</td>\n",
       "      <td>0 days 13:45:00</td>\n",
       "      <td>0 days 14:05:00</td>\n",
       "      <td>0 days 00:00:35</td>\n",
       "    </tr>\n",
       "    <tr>\n",
       "      <th>2</th>\n",
       "      <td>0004</td>\n",
       "      <td>2020-11-10</td>\n",
       "      <td>14.3</td>\n",
       "      <td>99999999X</td>\n",
       "      <td>77777777M</td>\n",
       "      <td>04477744T</td>\n",
       "      <td>0 days 14:02:00</td>\n",
       "      <td>0 days 14:30:00</td>\n",
       "      <td>0 days 14:45:00</td>\n",
       "      <td>0 days 00:00:43</td>\n",
       "    </tr>\n",
       "    <tr>\n",
       "      <th>3</th>\n",
       "      <td>0005</td>\n",
       "      <td>2020-09-05</td>\n",
       "      <td>14.0</td>\n",
       "      <td>14567555L</td>\n",
       "      <td>03232323P</td>\n",
       "      <td>14188151T</td>\n",
       "      <td>0 days 19:02:00</td>\n",
       "      <td>0 days 19:30:00</td>\n",
       "      <td>0 days 19:45:00</td>\n",
       "      <td>0 days 00:00:43</td>\n",
       "    </tr>\n",
       "    <tr>\n",
       "      <th>4</th>\n",
       "      <td>0006</td>\n",
       "      <td>2020-11-15</td>\n",
       "      <td>25.3</td>\n",
       "      <td>14567555L</td>\n",
       "      <td>88888888O</td>\n",
       "      <td>04477744T</td>\n",
       "      <td>0 days 21:02:00</td>\n",
       "      <td>0 days 21:35:00</td>\n",
       "      <td>0 days 21:45:00</td>\n",
       "      <td>0 days 00:00:43</td>\n",
       "    </tr>\n",
       "    <tr>\n",
       "      <th>5</th>\n",
       "      <td>0007</td>\n",
       "      <td>2020-09-25</td>\n",
       "      <td>17.0</td>\n",
       "      <td>03232323P</td>\n",
       "      <td>88888888O</td>\n",
       "      <td>14188151T</td>\n",
       "      <td>0 days 23:05:00</td>\n",
       "      <td>0 days 23:12:00</td>\n",
       "      <td>0 days 23:35:00</td>\n",
       "      <td>0 days 00:00:30</td>\n",
       "    </tr>\n",
       "    <tr>\n",
       "      <th>6</th>\n",
       "      <td>0008</td>\n",
       "      <td>2020-09-15</td>\n",
       "      <td>14.0</td>\n",
       "      <td>99999999X</td>\n",
       "      <td>33333333M</td>\n",
       "      <td>11245621Q</td>\n",
       "      <td>0 days 18:02:00</td>\n",
       "      <td>0 days 18:30:00</td>\n",
       "      <td>0 days 18:45:00</td>\n",
       "      <td>0 days 00:00:43</td>\n",
       "    </tr>\n",
       "    <tr>\n",
       "      <th>7</th>\n",
       "      <td>0010</td>\n",
       "      <td>2020-11-05</td>\n",
       "      <td>49.5</td>\n",
       "      <td>88888888O</td>\n",
       "      <td>14567555L</td>\n",
       "      <td>11245621Q</td>\n",
       "      <td>0 days 22:05:00</td>\n",
       "      <td>0 days 22:12:00</td>\n",
       "      <td>0 days 22:20:45</td>\n",
       "      <td>0 days 00:00:15</td>\n",
       "    </tr>\n",
       "    <tr>\n",
       "      <th>8</th>\n",
       "      <td>0014</td>\n",
       "      <td>2021-01-15</td>\n",
       "      <td>13.0</td>\n",
       "      <td>99999999X</td>\n",
       "      <td>55555555J</td>\n",
       "      <td>04477744T</td>\n",
       "      <td>0 days 21:20:00</td>\n",
       "      <td>0 days 21:30:00</td>\n",
       "      <td>0 days 21:51:00</td>\n",
       "      <td>0 days 00:00:31</td>\n",
       "    </tr>\n",
       "  </tbody>\n",
       "</table>\n",
       "</div>"
      ],
      "text/plain": [
       "  Numero       Fecha  Importe    DNI_ETM     DNI_EP      DNI_R  \\\n",
       "0   0001  2020-10-15     10.0  11111111Q  04444444T  55675675J   \n",
       "1   0002  2020-11-11     16.5  22222222S  77777777M  99009900J   \n",
       "2   0004  2020-11-10     14.3  99999999X  77777777M  04477744T   \n",
       "3   0005  2020-09-05     14.0  14567555L  03232323P  14188151T   \n",
       "4   0006  2020-11-15     25.3  14567555L  88888888O  04477744T   \n",
       "5   0007  2020-09-25     17.0  03232323P  88888888O  14188151T   \n",
       "6   0008  2020-09-15     14.0  99999999X  33333333M  11245621Q   \n",
       "7   0010  2020-11-05     49.5  88888888O  14567555L  11245621Q   \n",
       "8   0014  2021-01-15     13.0  99999999X  55555555J  04477744T   \n",
       "\n",
       "          Hora_tm        Hora_pre        Hora_rep Tiempo_transcurrido  \n",
       "0 0 days 12:00:00 0 days 12:15:00 0 days 12:45:00     0 days 00:00:45  \n",
       "1 0 days 13:30:00 0 days 13:45:00 0 days 14:05:00     0 days 00:00:35  \n",
       "2 0 days 14:02:00 0 days 14:30:00 0 days 14:45:00     0 days 00:00:43  \n",
       "3 0 days 19:02:00 0 days 19:30:00 0 days 19:45:00     0 days 00:00:43  \n",
       "4 0 days 21:02:00 0 days 21:35:00 0 days 21:45:00     0 days 00:00:43  \n",
       "5 0 days 23:05:00 0 days 23:12:00 0 days 23:35:00     0 days 00:00:30  \n",
       "6 0 days 18:02:00 0 days 18:30:00 0 days 18:45:00     0 days 00:00:43  \n",
       "7 0 days 22:05:00 0 days 22:12:00 0 days 22:20:45     0 days 00:00:15  \n",
       "8 0 days 21:20:00 0 days 21:30:00 0 days 21:51:00     0 days 00:00:31  "
      ]
     },
     "execution_count": 73,
     "metadata": {},
     "output_type": "execute_result"
    }
   ],
   "source": [
    "df23=pd.read_sql(query23_1, con=connection)\n",
    "df23"
   ]
  },
  {
   "attachments": {},
   "cell_type": "markdown",
   "metadata": {},
   "source": [
    "### Insertar en la tabla RANKING_PRODUCTOS por cada producto, su código, su nombre y la cantidad total pedida.(Debes hacerlo con una única sentencia)."
   ]
  },
  {
   "cell_type": "code",
   "execution_count": 74,
   "metadata": {},
   "outputs": [],
   "source": [
    "query24=\"\"\" \n",
    "INSERT INTO \n",
    "\tRANKING_PRODUCTOS (Codigo, Nombre, Total)\n",
    "SELECT \n",
    "\tpro.Codigo, pro.Nombre, SUM(con.Cantidad)\n",
    "FROM \n",
    "\tconsta con\n",
    "INNER JOIN \n",
    "\tPRODUCTO pro ON con.Codigo_Pr = pro.Codigo\n",
    "GROUP BY \n",
    "\tpro.Codigo, pro.Nombre;\n",
    "\"\"\"\n",
    "cursor.execute(query24)\n",
    "connection.commit()"
   ]
  },
  {
   "cell_type": "code",
   "execution_count": 75,
   "metadata": {},
   "outputs": [
    {
     "data": {
      "text/plain": [
       "[('02', 'Patatas', 2),\n",
       " ('04', 'Queso', 6),\n",
       " ('09', 'Coca cola', 1),\n",
       " ('11', 'Menú de Pollo', 4),\n",
       " ('12', 'Menú de Hamburguesa con queso', 11),\n",
       " ('13', 'Menú de Pollo con queso', 11),\n",
       " ('15', 'Helado', 2),\n",
       " ('16', 'Tarta', 3),\n",
       " ('18', 'Agua', 1),\n",
       " ('19', 'Fanta', 1)]"
      ]
     },
     "execution_count": 75,
     "metadata": {},
     "output_type": "execute_result"
    }
   ],
   "source": [
    "query24_1=\"\"\" \n",
    "SELECT *\n",
    "FROM\n",
    "\tRANKING_PRODUCTOS\n",
    "\"\"\"\n",
    "cursor.execute(query24_1)\n",
    "cursor.fetchall()"
   ]
  },
  {
   "cell_type": "code",
   "execution_count": 76,
   "metadata": {},
   "outputs": [
    {
     "name": "stderr",
     "output_type": "stream",
     "text": [
      "C:\\Users\\Russhi\\AppData\\Local\\Temp\\ipykernel_23248\\3998631150.py:1: UserWarning: pandas only supports SQLAlchemy connectable (engine/connection) or database string URI or sqlite3 DBAPI2 connection. Other DBAPI2 objects are not tested. Please consider using SQLAlchemy.\n",
      "  df24=pd.read_sql(query24_1, con=connection)\n"
     ]
    },
    {
     "data": {
      "text/html": [
       "<div>\n",
       "<style scoped>\n",
       "    .dataframe tbody tr th:only-of-type {\n",
       "        vertical-align: middle;\n",
       "    }\n",
       "\n",
       "    .dataframe tbody tr th {\n",
       "        vertical-align: top;\n",
       "    }\n",
       "\n",
       "    .dataframe thead th {\n",
       "        text-align: right;\n",
       "    }\n",
       "</style>\n",
       "<table border=\"1\" class=\"dataframe\">\n",
       "  <thead>\n",
       "    <tr style=\"text-align: right;\">\n",
       "      <th></th>\n",
       "      <th>Codigo</th>\n",
       "      <th>Nombre</th>\n",
       "      <th>Total</th>\n",
       "    </tr>\n",
       "  </thead>\n",
       "  <tbody>\n",
       "    <tr>\n",
       "      <th>0</th>\n",
       "      <td>02</td>\n",
       "      <td>Patatas</td>\n",
       "      <td>2</td>\n",
       "    </tr>\n",
       "    <tr>\n",
       "      <th>1</th>\n",
       "      <td>04</td>\n",
       "      <td>Queso</td>\n",
       "      <td>6</td>\n",
       "    </tr>\n",
       "    <tr>\n",
       "      <th>2</th>\n",
       "      <td>09</td>\n",
       "      <td>Coca cola</td>\n",
       "      <td>1</td>\n",
       "    </tr>\n",
       "    <tr>\n",
       "      <th>3</th>\n",
       "      <td>11</td>\n",
       "      <td>Menú de Pollo</td>\n",
       "      <td>4</td>\n",
       "    </tr>\n",
       "    <tr>\n",
       "      <th>4</th>\n",
       "      <td>12</td>\n",
       "      <td>Menú de Hamburguesa con queso</td>\n",
       "      <td>11</td>\n",
       "    </tr>\n",
       "    <tr>\n",
       "      <th>5</th>\n",
       "      <td>13</td>\n",
       "      <td>Menú de Pollo con queso</td>\n",
       "      <td>11</td>\n",
       "    </tr>\n",
       "    <tr>\n",
       "      <th>6</th>\n",
       "      <td>15</td>\n",
       "      <td>Helado</td>\n",
       "      <td>2</td>\n",
       "    </tr>\n",
       "    <tr>\n",
       "      <th>7</th>\n",
       "      <td>16</td>\n",
       "      <td>Tarta</td>\n",
       "      <td>3</td>\n",
       "    </tr>\n",
       "    <tr>\n",
       "      <th>8</th>\n",
       "      <td>18</td>\n",
       "      <td>Agua</td>\n",
       "      <td>1</td>\n",
       "    </tr>\n",
       "    <tr>\n",
       "      <th>9</th>\n",
       "      <td>19</td>\n",
       "      <td>Fanta</td>\n",
       "      <td>1</td>\n",
       "    </tr>\n",
       "  </tbody>\n",
       "</table>\n",
       "</div>"
      ],
      "text/plain": [
       "  Codigo                         Nombre  Total\n",
       "0     02                        Patatas      2\n",
       "1     04                          Queso      6\n",
       "2     09                      Coca cola      1\n",
       "3     11                  Menú de Pollo      4\n",
       "4     12  Menú de Hamburguesa con queso     11\n",
       "5     13        Menú de Pollo con queso     11\n",
       "6     15                         Helado      2\n",
       "7     16                          Tarta      3\n",
       "8     18                           Agua      1\n",
       "9     19                          Fanta      1"
      ]
     },
     "execution_count": 76,
     "metadata": {},
     "output_type": "execute_result"
    }
   ],
   "source": [
    "df24=pd.read_sql(query24_1, con=connection)\n",
    "df24"
   ]
  },
  {
   "attachments": {},
   "cell_type": "markdown",
   "metadata": {},
   "source": [
    "### Incrementar el salario de los empleados en 10 euros si han tomado nota de algún pedido. Además, esos empleados también deben haber preparado algún pedido. (Debes hacerlo con una única sentencia)"
   ]
  },
  {
   "cell_type": "code",
   "execution_count": 77,
   "metadata": {},
   "outputs": [],
   "source": [
    "query24=\"\"\" \n",
    "UPDATE EMPLEADO\n",
    "SET Salario = Salario + 10\n",
    "WHERE DNI IN (\n",
    "    SELECT DISTINCT DNI_ETM\n",
    "    FROM PEDIDO\n",
    "    WHERE DNI_ETM IS NOT NULL\n",
    "    AND Numero IN (\n",
    "        SELECT DISTINCT Numero_P\n",
    "        FROM consta\n",
    "    )\n",
    ")\n",
    "AND DNI IN (\n",
    "    SELECT DISTINCT DNI_EP\n",
    "    FROM PEDIDO\n",
    "    WHERE DNI_EP IS NOT NULL\n",
    "    AND Numero IN (\n",
    "        SELECT DISTINCT Numero_P\n",
    "        FROM consta\n",
    "    )\n",
    ");\n",
    "\"\"\"\n",
    "cursor.execute(query24)\n",
    "connection.commit()"
   ]
  },
  {
   "cell_type": "code",
   "execution_count": 78,
   "metadata": {},
   "outputs": [
    {
     "data": {
      "text/plain": [
       "[('03232323P', 'María Luisa Galdón Ter', '43534534567', 'noche', 1210.0),\n",
       " ('04444444T', 'Úrsula Delta Camacho', '11177788899', 'mañana', 900.0),\n",
       " ('11111111Q', 'Luis Ramírez Pardo', '23445556666', 'mañana', 900.0),\n",
       " ('14111155T', 'Sergio Lérida Campos', '55577700089', 'tarde', 1000.0),\n",
       " ('14567555L', 'Piedad Colmenero Zapillo', '23456734534', 'noche', 1210.0),\n",
       " ('22222222S', 'María Sánchez Cid', '11112223334', 'tarde', 1000.0),\n",
       " ('33333333M', 'Martín Guerrero López', '33344455566', 'tarde', 1000.0),\n",
       " ('55555555J', 'Carmen Hernández Pío', '99966633311', 'mañana', 900.0),\n",
       " ('77777777M', 'Pedro Jiménez Ruiz', '23456785432', 'tarde', 1000.0),\n",
       " ('88888888O', 'Soledad Campillo Molina', '00088877754', 'noche', 1210.0),\n",
       " ('98567432x', 'Luis Fernández Cáceres', '09809809822', 'tarde', 850.0),\n",
       " ('99999999X', 'Raúl Rodrigo Roca', '55566677789', 'tarde', 1000.0)]"
      ]
     },
     "execution_count": 78,
     "metadata": {},
     "output_type": "execute_result"
    }
   ],
   "source": [
    "query25_1=\"\"\" \n",
    "SELECT *\n",
    "FROM\n",
    "\tEMPLEADO\n",
    "\"\"\"\n",
    "cursor.execute(query25_1)\n",
    "cursor.fetchall()"
   ]
  },
  {
   "cell_type": "code",
   "execution_count": 79,
   "metadata": {},
   "outputs": [
    {
     "name": "stderr",
     "output_type": "stream",
     "text": [
      "C:\\Users\\Russhi\\AppData\\Local\\Temp\\ipykernel_23248\\3796942633.py:1: UserWarning: pandas only supports SQLAlchemy connectable (engine/connection) or database string URI or sqlite3 DBAPI2 connection. Other DBAPI2 objects are not tested. Please consider using SQLAlchemy.\n",
      "  df25=pd.read_sql(query25_1, con=connection)\n"
     ]
    },
    {
     "data": {
      "text/html": [
       "<div>\n",
       "<style scoped>\n",
       "    .dataframe tbody tr th:only-of-type {\n",
       "        vertical-align: middle;\n",
       "    }\n",
       "\n",
       "    .dataframe tbody tr th {\n",
       "        vertical-align: top;\n",
       "    }\n",
       "\n",
       "    .dataframe thead th {\n",
       "        text-align: right;\n",
       "    }\n",
       "</style>\n",
       "<table border=\"1\" class=\"dataframe\">\n",
       "  <thead>\n",
       "    <tr style=\"text-align: right;\">\n",
       "      <th></th>\n",
       "      <th>DNI</th>\n",
       "      <th>Nombre</th>\n",
       "      <th>Nss</th>\n",
       "      <th>Turno</th>\n",
       "      <th>Salario</th>\n",
       "    </tr>\n",
       "  </thead>\n",
       "  <tbody>\n",
       "    <tr>\n",
       "      <th>0</th>\n",
       "      <td>03232323P</td>\n",
       "      <td>María Luisa Galdón Ter</td>\n",
       "      <td>43534534567</td>\n",
       "      <td>noche</td>\n",
       "      <td>1210.0</td>\n",
       "    </tr>\n",
       "    <tr>\n",
       "      <th>1</th>\n",
       "      <td>04444444T</td>\n",
       "      <td>Úrsula Delta Camacho</td>\n",
       "      <td>11177788899</td>\n",
       "      <td>mañana</td>\n",
       "      <td>900.0</td>\n",
       "    </tr>\n",
       "    <tr>\n",
       "      <th>2</th>\n",
       "      <td>11111111Q</td>\n",
       "      <td>Luis Ramírez Pardo</td>\n",
       "      <td>23445556666</td>\n",
       "      <td>mañana</td>\n",
       "      <td>900.0</td>\n",
       "    </tr>\n",
       "    <tr>\n",
       "      <th>3</th>\n",
       "      <td>14111155T</td>\n",
       "      <td>Sergio Lérida Campos</td>\n",
       "      <td>55577700089</td>\n",
       "      <td>tarde</td>\n",
       "      <td>1000.0</td>\n",
       "    </tr>\n",
       "    <tr>\n",
       "      <th>4</th>\n",
       "      <td>14567555L</td>\n",
       "      <td>Piedad Colmenero Zapillo</td>\n",
       "      <td>23456734534</td>\n",
       "      <td>noche</td>\n",
       "      <td>1210.0</td>\n",
       "    </tr>\n",
       "    <tr>\n",
       "      <th>5</th>\n",
       "      <td>22222222S</td>\n",
       "      <td>María Sánchez Cid</td>\n",
       "      <td>11112223334</td>\n",
       "      <td>tarde</td>\n",
       "      <td>1000.0</td>\n",
       "    </tr>\n",
       "    <tr>\n",
       "      <th>6</th>\n",
       "      <td>33333333M</td>\n",
       "      <td>Martín Guerrero López</td>\n",
       "      <td>33344455566</td>\n",
       "      <td>tarde</td>\n",
       "      <td>1000.0</td>\n",
       "    </tr>\n",
       "    <tr>\n",
       "      <th>7</th>\n",
       "      <td>55555555J</td>\n",
       "      <td>Carmen Hernández Pío</td>\n",
       "      <td>99966633311</td>\n",
       "      <td>mañana</td>\n",
       "      <td>900.0</td>\n",
       "    </tr>\n",
       "    <tr>\n",
       "      <th>8</th>\n",
       "      <td>77777777M</td>\n",
       "      <td>Pedro Jiménez Ruiz</td>\n",
       "      <td>23456785432</td>\n",
       "      <td>tarde</td>\n",
       "      <td>1000.0</td>\n",
       "    </tr>\n",
       "    <tr>\n",
       "      <th>9</th>\n",
       "      <td>88888888O</td>\n",
       "      <td>Soledad Campillo Molina</td>\n",
       "      <td>00088877754</td>\n",
       "      <td>noche</td>\n",
       "      <td>1210.0</td>\n",
       "    </tr>\n",
       "    <tr>\n",
       "      <th>10</th>\n",
       "      <td>98567432x</td>\n",
       "      <td>Luis Fernández Cáceres</td>\n",
       "      <td>09809809822</td>\n",
       "      <td>tarde</td>\n",
       "      <td>850.0</td>\n",
       "    </tr>\n",
       "    <tr>\n",
       "      <th>11</th>\n",
       "      <td>99999999X</td>\n",
       "      <td>Raúl Rodrigo Roca</td>\n",
       "      <td>55566677789</td>\n",
       "      <td>tarde</td>\n",
       "      <td>1000.0</td>\n",
       "    </tr>\n",
       "  </tbody>\n",
       "</table>\n",
       "</div>"
      ],
      "text/plain": [
       "          DNI                    Nombre          Nss   Turno  Salario\n",
       "0   03232323P    María Luisa Galdón Ter  43534534567   noche   1210.0\n",
       "1   04444444T      Úrsula Delta Camacho  11177788899  mañana    900.0\n",
       "2   11111111Q        Luis Ramírez Pardo  23445556666  mañana    900.0\n",
       "3   14111155T      Sergio Lérida Campos  55577700089   tarde   1000.0\n",
       "4   14567555L  Piedad Colmenero Zapillo  23456734534   noche   1210.0\n",
       "5   22222222S         María Sánchez Cid  11112223334   tarde   1000.0\n",
       "6   33333333M     Martín Guerrero López  33344455566   tarde   1000.0\n",
       "7   55555555J      Carmen Hernández Pío  99966633311  mañana    900.0\n",
       "8   77777777M        Pedro Jiménez Ruiz  23456785432   tarde   1000.0\n",
       "9   88888888O   Soledad Campillo Molina  00088877754   noche   1210.0\n",
       "10  98567432x    Luis Fernández Cáceres  09809809822   tarde    850.0\n",
       "11  99999999X         Raúl Rodrigo Roca  55566677789   tarde   1000.0"
      ]
     },
     "execution_count": 79,
     "metadata": {},
     "output_type": "execute_result"
    }
   ],
   "source": [
    "df25=pd.read_sql(query25_1, con=connection)\n",
    "df25"
   ]
  },
  {
   "attachments": {},
   "cell_type": "markdown",
   "metadata": {},
   "source": [
    "# Cierro la Conexión"
   ]
  },
  {
   "cell_type": "code",
   "execution_count": 80,
   "metadata": {},
   "outputs": [],
   "source": [
    "cursor.close()\n",
    "connection.close()"
   ]
  },
  {
   "attachments": {},
   "cell_type": "markdown",
   "metadata": {},
   "source": [
    "# Guardo la información en Excel"
   ]
  },
  {
   "cell_type": "code",
   "execution_count": null,
   "metadata": {},
   "outputs": [],
   "source": [
    "with pd.ExcelWriter('SQLqueries_FastFoodCompany.xlsx',engine='xlsxwriter', mode='w') as writer:\n",
    "    df1.to_excel(writer, sheet_name='Productos')\n",
    "    df2.to_excel(writer, sheet_name='Repartidores')\n",
    "    df3.to_excel(writer, sheet_name='SalarioEmpleados')\n",
    "    df4.to_excel(writer, sheet_name='PedidoNov2020')\n",
    "    df5.to_excel(writer, sheet_name='DNIRepartidores')\n",
    "    df6.to_excel(writer, sheet_name='PedidosMes')\n",
    "    df7.to_excel(writer, sheet_name='Empleados')\n",
    "    df8.to_excel(writer, sheet_name='ProductosPrecioMedia')\n",
    "    df9.to_excel(writer, sheet_name='EmpleadosNoPreparado')\n",
    "    df10.to_excel(writer, sheet_name='PedidoLuisMaria')\n",
    "    df11.to_excel(writer, sheet_name='TiemposRepartidor')\n",
    "    df12.to_excel(writer, sheet_name='PedidosBaratoCaro')\n",
    "    df13.to_excel(writer, sheet_name='Pedidos2')\n",
    "    df14.to_excel(writer, sheet_name='IDEmpleado')\n",
    "    df15.to_excel(writer, sheet_name='PedidoCodigo')\n",
    "    df16.to_excel(writer, sheet_name='InsertoEmpleado')\n",
    "    df17.to_excel(writer, sheet_name='Pedido010')\n",
    "    df18.to_excel(writer, sheet_name='FrutaEliminado')\n",
    "    df19.to_excel(writer, sheet_name='InsertarPedido')\n",
    "    df20.to_excel(writer, sheet_name='Incremento10Rep')\n",
    "    df21.to_excel(writer, sheet_name='RepartidorAlejandro')\n",
    "    df22.to_excel(writer, sheet_name='Incentivo50')\n",
    "    df23.to_excel(writer, sheet_name='Pedidos_Finalizados')\n",
    "    df24.to_excel(writer, sheet_name='Ranking')\n",
    "    df25.to_excel(writer, sheet_name='Incremento10Emple')\n",
    "    \n",
    "    writer.close()"
   ]
  }
 ],
 "metadata": {
  "kernelspec": {
   "display_name": "venv_analytics",
   "language": "python",
   "name": "python3"
  },
  "language_info": {
   "codemirror_mode": {
    "name": "ipython",
    "version": 3
   },
   "file_extension": ".py",
   "mimetype": "text/x-python",
   "name": "python",
   "nbconvert_exporter": "python",
   "pygments_lexer": "ipython3",
   "version": "3.10.9"
  },
  "orig_nbformat": 4
 },
 "nbformat": 4,
 "nbformat_minor": 2
}
